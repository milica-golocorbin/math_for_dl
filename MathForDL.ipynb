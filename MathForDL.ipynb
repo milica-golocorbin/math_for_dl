{
  "nbformat": 4,
  "nbformat_minor": 0,
  "metadata": {
    "colab": {
      "provenance": []
    },
    "kernelspec": {
      "name": "python3",
      "display_name": "Python 3"
    },
    "language_info": {
      "name": "python"
    }
  },
  "cells": [
    {
      "cell_type": "code",
      "execution_count": 2,
      "metadata": {
        "id": "KrP8wZojXGh9"
      },
      "outputs": [],
      "source": [
        "import numpy as np\n",
        "import torch"
      ]
    },
    {
      "cell_type": "code",
      "source": [
        "# USING NUMPY\n",
        "# create a vector\n",
        "nv = np.array([[1,2,3,4]])\n",
        "print(nv)\n",
        "\n",
        "# transpose it\n",
        "nv_T = nv.T\n",
        "print(nv_T)"
      ],
      "metadata": {
        "colab": {
          "base_uri": "https://localhost:8080/"
        },
        "id": "3O2T9WDuXQuW",
        "outputId": "8e440df4-c188-4e96-ba85-fee70e6d6515"
      },
      "execution_count": 12,
      "outputs": [
        {
          "output_type": "stream",
          "name": "stdout",
          "text": [
            "[[1 2 3 4]]\n",
            "[[1]\n",
            " [2]\n",
            " [3]\n",
            " [4]]\n"
          ]
        }
      ]
    },
    {
      "cell_type": "code",
      "source": [
        "# create a matrix\n",
        "nM = np.array([[1,2,3],[4,5,6]])\n",
        "print(nM)\n",
        "\n",
        "# transpose it\n",
        "nM_T = nM.T\n",
        "print(nM_T)"
      ],
      "metadata": {
        "colab": {
          "base_uri": "https://localhost:8080/"
        },
        "id": "nrbMaM3jYnkK",
        "outputId": "539a6dc5-00a3-4668-f530-364910d5d461"
      },
      "execution_count": 7,
      "outputs": [
        {
          "output_type": "stream",
          "name": "stdout",
          "text": [
            "[[1 2 3]\n",
            " [4 5 6]]\n",
            "[[1 4]\n",
            " [2 5]\n",
            " [3 6]]\n"
          ]
        }
      ]
    },
    {
      "cell_type": "code",
      "source": [
        "# USING PYTORCH\n",
        "# create a vector\n",
        "tv = torch.tensor([[1,2,3,4]])\n",
        "print(tv)\n",
        "\n",
        "# transpose it\n",
        "tv_T = tv.T\n",
        "print(tv_T)"
      ],
      "metadata": {
        "colab": {
          "base_uri": "https://localhost:8080/"
        },
        "id": "ABvIcx5CZMG_",
        "outputId": "e2af5390-4292-4acd-cd9e-cf1cac285c72"
      },
      "execution_count": 11,
      "outputs": [
        {
          "output_type": "stream",
          "name": "stdout",
          "text": [
            "tensor([[1, 2, 3, 4]])\n",
            "tensor([[1],\n",
            "        [2],\n",
            "        [3],\n",
            "        [4]])\n"
          ]
        }
      ]
    },
    {
      "cell_type": "code",
      "source": [
        "# create a matrix\n",
        "tM = torch.tensor([[1,2,3],[4,5,6]])\n",
        "print(tM)\n",
        "\n",
        "# transpose it\n",
        "tM_T = tM.T\n",
        "print(tM_T)"
      ],
      "metadata": {
        "colab": {
          "base_uri": "https://localhost:8080/"
        },
        "id": "8kWhANQyZ7jW",
        "outputId": "522064df-eaf4-4319-e41c-55305db8d536"
      },
      "execution_count": 13,
      "outputs": [
        {
          "output_type": "stream",
          "name": "stdout",
          "text": [
            "tensor([[1, 2, 3],\n",
            "        [4, 5, 6]])\n",
            "tensor([[1, 4],\n",
            "        [2, 5],\n",
            "        [3, 6]])\n"
          ]
        }
      ]
    },
    {
      "cell_type": "code",
      "source": [
        "# USING NUMPY\n",
        "# DOT product\n",
        "\n",
        "nv1 = np.array([1,2,3,4])\n",
        "nv2 = np.array([0,1,0,-1])\n",
        "\n",
        "np_d = np.dot(nv1, nv2)\n",
        "print(np_d)\n",
        "\n",
        "print(np.sum(nv1*nv2))"
      ],
      "metadata": {
        "colab": {
          "base_uri": "https://localhost:8080/"
        },
        "id": "TU4EPkgDb8jk",
        "outputId": "a0b2aa2c-86c2-44d2-f5ca-e06bff6f3bf3"
      },
      "execution_count": 18,
      "outputs": [
        {
          "output_type": "stream",
          "name": "stdout",
          "text": [
            "-2\n",
            "-2\n"
          ]
        }
      ]
    },
    {
      "cell_type": "code",
      "source": [
        "# USING PYTORCH\n",
        "# DOT product\n",
        "\n",
        "tv1 = torch.tensor([1,2,3,4])\n",
        "tv2 = torch.tensor([0,1,0,-1])\n",
        "\n",
        "tv_d = torch.dot(tv1, tv2)\n",
        "print(tv_d)\n",
        "\n",
        "print(torch.sum(tv1*tv2))"
      ],
      "metadata": {
        "colab": {
          "base_uri": "https://localhost:8080/"
        },
        "id": "339EnNkncpge",
        "outputId": "d3bb2244-110f-498f-806f-f546fe59804d"
      },
      "execution_count": 20,
      "outputs": [
        {
          "output_type": "stream",
          "name": "stdout",
          "text": [
            "tensor(-2)\n",
            "tensor(-2)\n"
          ]
        }
      ]
    },
    {
      "cell_type": "code",
      "source": [
        "#USING NUMPY\n",
        "# MATRIX MULTIPLICATION(ordered dot product)\n",
        "\n",
        "A = np.random.randn(3,4)\n",
        "B = np.random.randn(4,5)\n",
        "C = np.random.randn(3,7)\n",
        "# print(A)\n",
        "# print(B)\n",
        "# print(C)\n",
        "\n",
        "# multiplication\n",
        "x = np.matmul(A,B)\n",
        "x1 = A@B\n",
        "print(np.round(x, 2))\n",
        "print(np.round(x1, 2))"
      ],
      "metadata": {
        "colab": {
          "base_uri": "https://localhost:8080/"
        },
        "id": "xx-92gEcn5se",
        "outputId": "d7adb2f7-806f-45fc-fc61-33c4e12395b0"
      },
      "execution_count": 26,
      "outputs": [
        {
          "output_type": "stream",
          "name": "stdout",
          "text": [
            "[[-0.69  0.65  0.71 -0.08 -0.66]\n",
            " [-0.84  0.66  0.94  0.21 -1.7 ]\n",
            " [ 1.32 -1.57 -1.19 -0.06  0.19]]\n",
            "[[-0.69  0.65  0.71 -0.08 -0.66]\n",
            " [-0.84  0.66  0.94  0.21 -1.7 ]\n",
            " [ 1.32 -1.57 -1.19 -0.06  0.19]]\n"
          ]
        }
      ]
    },
    {
      "cell_type": "code",
      "source": [
        "#USING PYTORCH\n",
        "# MATRIX MULTIPLICATION(ordered dot product)\n",
        "\n",
        "A = torch.randn(3,4)\n",
        "B = torch.randn(4,5)\n",
        "C = torch.randn(4,7)\n",
        "\n",
        "print(np.round(A@C, 2))"
      ],
      "metadata": {
        "colab": {
          "base_uri": "https://localhost:8080/"
        },
        "id": "KrEHLOo0qbkP",
        "outputId": "efab4435-0122-4817-cd66-550f2587800f"
      },
      "execution_count": 28,
      "outputs": [
        {
          "output_type": "stream",
          "name": "stdout",
          "text": [
            "tensor([[-1.4000,  0.5800, -0.2100, -0.9100, -1.5200,  0.6800, -0.9200],\n",
            "        [-0.9100, -2.4100,  0.9300,  0.5300, -1.3000, -0.4300, -3.4500],\n",
            "        [ 2.5800,  4.1600,  0.5100, -1.0100,  1.7100,  0.1600, -1.6800]])\n"
          ]
        }
      ]
    }
  ]
}