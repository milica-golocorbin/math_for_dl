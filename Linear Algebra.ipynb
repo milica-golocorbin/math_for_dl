{
  "nbformat": 4,
  "nbformat_minor": 0,
  "metadata": {
    "colab": {
      "provenance": [],
      "authorship_tag": "ABX9TyNdKIipKcfB+H+G7MO7o1ij",
      "include_colab_link": true
    },
    "kernelspec": {
      "name": "python3",
      "display_name": "Python 3"
    },
    "language_info": {
      "name": "python"
    }
  },
  "cells": [
    {
      "cell_type": "markdown",
      "metadata": {
        "id": "view-in-github",
        "colab_type": "text"
      },
      "source": [
        "<a href=\"https://colab.research.google.com/github/milica-golocorbin/math_for_dl/blob/main/MathForDL.ipynb\" target=\"_parent\"><img src=\"https://colab.research.google.com/assets/colab-badge.svg\" alt=\"Open In Colab\"/></a>"
      ]
    },
    {
      "cell_type": "code",
      "execution_count": 7,
      "metadata": {
        "id": "KrP8wZojXGh9"
      },
      "outputs": [],
      "source": [
        "import numpy as np\n",
        "import torch\n",
        "import tensorflow as tf"
      ]
    },
    {
      "cell_type": "markdown",
      "source": [
        "# Data Structures for linear algebra\n",
        "\n",
        "## Tensors - Fundamental data structure\n",
        "\n",
        "Tensors are array of numbers. Tensors are machine learning generalization of vectors and matrices to any number of dimensions.\n",
        "\n",
        "- zero dimensional SCALAR tensor\n",
        "- one dimensional VECTOR tensor\n",
        "- two dimensional MATRIX tensor\n",
        "- higher dimensional n TENSOR"
      ],
      "metadata": {
        "id": "hYEzevo6G0TF"
      }
    },
    {
      "cell_type": "code",
      "source": [
        "# SCALAR TENSORS\n",
        "# single number, no dimensions\n",
        "\n",
        "# base python\n",
        "x = 25\n",
        "type(x)\n",
        "\n",
        "# pytorch\n",
        "x_pt = torch.tensor(25)\n",
        "x_pt\n",
        "\n",
        "# tensorflow\n",
        "x_tf = tf.Variable(25)\n",
        "x_tf"
      ],
      "metadata": {
        "colab": {
          "base_uri": "https://localhost:8080/"
        },
        "id": "3O2T9WDuXQuW",
        "outputId": "8705ee7a-4bf7-480e-ee90-c565e1301f63"
      },
      "execution_count": 8,
      "outputs": [
        {
          "output_type": "execute_result",
          "data": {
            "text/plain": [
              "<tf.Variable 'Variable:0' shape=() dtype=int32, numpy=25>"
            ]
          },
          "metadata": {},
          "execution_count": 8
        }
      ]
    },
    {
      "cell_type": "code",
      "source": [
        "# number of dimensions - pytorch\n",
        "x_pt.shape"
      ],
      "metadata": {
        "colab": {
          "base_uri": "https://localhost:8080/"
        },
        "id": "nrbMaM3jYnkK",
        "outputId": "0d90cc43-282e-417a-bee9-ec844e3d4385"
      },
      "execution_count": 6,
      "outputs": [
        {
          "output_type": "execute_result",
          "data": {
            "text/plain": [
              "torch.Size([])"
            ]
          },
          "metadata": {},
          "execution_count": 6
        }
      ]
    },
    {
      "cell_type": "code",
      "source": [
        "# number of dimensions - tensorflow\n",
        "x_tf.shape"
      ],
      "metadata": {
        "colab": {
          "base_uri": "https://localhost:8080/"
        },
        "id": "ABvIcx5CZMG_",
        "outputId": "f1b98bdd-8400-4e61-c2db-e9175b1795f6"
      },
      "execution_count": 9,
      "outputs": [
        {
          "output_type": "execute_result",
          "data": {
            "text/plain": [
              "TensorShape([])"
            ]
          },
          "metadata": {},
          "execution_count": 9
        }
      ]
    },
    {
      "cell_type": "code",
      "source": [
        "result = x_pt + x_tf\n",
        "# result\n",
        "result.numpy()"
      ],
      "metadata": {
        "colab": {
          "base_uri": "https://localhost:8080/"
        },
        "id": "8kWhANQyZ7jW",
        "outputId": "26f27803-76c7-43cf-d4bd-e657c8657653"
      },
      "execution_count": 12,
      "outputs": [
        {
          "output_type": "execute_result",
          "data": {
            "text/plain": [
              "50"
            ]
          },
          "metadata": {},
          "execution_count": 12
        }
      ]
    },
    {
      "cell_type": "code",
      "source": [
        "# VECTOR TENSORS\n",
        "# one dimensional array of numbers(scalars)\n",
        "\n",
        "# numpy\n",
        "y = np.array([25, 2, 5])\n",
        "y\n",
        "\n",
        "# pytorch\n",
        "y_pt = torch.tensor([25, 2, 5])\n",
        "y_pt\n",
        "\n",
        "# tensorflow\n",
        "y_tf = tf.Variable([25, 2, 5])\n",
        "y_tf"
      ],
      "metadata": {
        "colab": {
          "base_uri": "https://localhost:8080/"
        },
        "id": "TU4EPkgDb8jk",
        "outputId": "fe60e32d-c380-4802-f058-bad59cc4d95e"
      },
      "execution_count": 24,
      "outputs": [
        {
          "output_type": "execute_result",
          "data": {
            "text/plain": [
              "<tf.Variable 'Variable:0' shape=(3,) dtype=int32, numpy=array([25,  2,  5], dtype=int32)>"
            ]
          },
          "metadata": {},
          "execution_count": 24
        }
      ]
    },
    {
      "cell_type": "code",
      "source": [
        "y.shape"
      ],
      "metadata": {
        "colab": {
          "base_uri": "https://localhost:8080/"
        },
        "id": "339EnNkncpge",
        "outputId": "5e2c9f73-8032-41e4-9f1a-8a5ed6924b22"
      },
      "execution_count": 25,
      "outputs": [
        {
          "output_type": "execute_result",
          "data": {
            "text/plain": [
              "(3,)"
            ]
          },
          "metadata": {},
          "execution_count": 25
        }
      ]
    },
    {
      "cell_type": "code",
      "source": [
        "y[0]"
      ],
      "metadata": {
        "colab": {
          "base_uri": "https://localhost:8080/"
        },
        "id": "ZrRlAOvNWwCT",
        "outputId": "9109375a-9e25-42df-f4ce-09d764526c5f"
      },
      "execution_count": 26,
      "outputs": [
        {
          "output_type": "execute_result",
          "data": {
            "text/plain": [
              "25"
            ]
          },
          "metadata": {},
          "execution_count": 26
        }
      ]
    },
    {
      "cell_type": "code",
      "source": [
        "# vector transposition\n",
        "# row vector (1,3) -> column vector (3,1)\n",
        "\n",
        "y_t = y.T\n",
        "y_t\n",
        "\n",
        "z = np.array([[25, 2, 3]])\n",
        "z_t = z.T\n",
        "z_t"
      ],
      "metadata": {
        "colab": {
          "base_uri": "https://localhost:8080/"
        },
        "id": "xx-92gEcn5se",
        "outputId": "96412d91-dab0-429e-b36b-1485bb459790"
      },
      "execution_count": 18,
      "outputs": [
        {
          "output_type": "execute_result",
          "data": {
            "text/plain": [
              "array([[25],\n",
              "       [ 2],\n",
              "       [ 3]])"
            ]
          },
          "metadata": {},
          "execution_count": 18
        }
      ]
    },
    {
      "cell_type": "code",
      "source": [
        "z_t.shape"
      ],
      "metadata": {
        "colab": {
          "base_uri": "https://localhost:8080/"
        },
        "id": "KrEHLOo0qbkP",
        "outputId": "4cd04371-1029-4c65-caac-0a20a60e1fd7"
      },
      "execution_count": 19,
      "outputs": [
        {
          "output_type": "execute_result",
          "data": {
            "text/plain": [
              "(3, 1)"
            ]
          },
          "metadata": {},
          "execution_count": 19
        }
      ]
    },
    {
      "cell_type": "code",
      "source": [
        "# MATRIX TENSORS\n",
        "# two dimensional array of numbers(scalars)\n",
        "\n",
        "# numpy\n",
        "M = np.array([[25, 2], [5, 26], [3, 7]])\n",
        "M\n",
        "\n",
        "# pytorch\n",
        "M_pt = torch.tensor([[25, 2], [5, 26], [3, 7]])\n",
        "M_pt\n",
        "\n",
        "# tensorflow\n",
        "M_tf = tf.Variable([[25, 2], [5, 26], [3, 7]])\n",
        "M_tf"
      ],
      "metadata": {
        "colab": {
          "base_uri": "https://localhost:8080/"
        },
        "id": "Ax4egEwlWzc-",
        "outputId": "e8599124-1aac-4b92-9785-4ed2bf91b96f"
      },
      "execution_count": 36,
      "outputs": [
        {
          "output_type": "execute_result",
          "data": {
            "text/plain": [
              "<tf.Variable 'Variable:0' shape=(3, 2) dtype=int32, numpy=\n",
              "array([[25,  2],\n",
              "       [ 5, 26],\n",
              "       [ 3,  7]], dtype=int32)>"
            ]
          },
          "metadata": {},
          "execution_count": 36
        }
      ]
    },
    {
      "cell_type": "code",
      "source": [
        "M.shape\n",
        "# (row, column)"
      ],
      "metadata": {
        "colab": {
          "base_uri": "https://localhost:8080/"
        },
        "id": "wbrnOYiEeS_8",
        "outputId": "82b9b63b-3a81-4cda-a14e-ad965e10a7d6"
      },
      "execution_count": 29,
      "outputs": [
        {
          "output_type": "execute_result",
          "data": {
            "text/plain": [
              "(3, 2)"
            ]
          },
          "metadata": {},
          "execution_count": 29
        }
      ]
    },
    {
      "cell_type": "code",
      "source": [
        "M.size"
      ],
      "metadata": {
        "colab": {
          "base_uri": "https://localhost:8080/"
        },
        "id": "9B3gwE4eeXZ-",
        "outputId": "fdf0d554-0541-411d-8bb6-3041a2a46d53"
      },
      "execution_count": 30,
      "outputs": [
        {
          "output_type": "execute_result",
          "data": {
            "text/plain": [
              "6"
            ]
          },
          "metadata": {},
          "execution_count": 30
        }
      ]
    },
    {
      "cell_type": "code",
      "source": [
        "M[:,0]\n",
        "# first column"
      ],
      "metadata": {
        "colab": {
          "base_uri": "https://localhost:8080/"
        },
        "id": "80u3urlYegTy",
        "outputId": "663aa97a-324c-4571-da2f-48c8033ed340"
      },
      "execution_count": 31,
      "outputs": [
        {
          "output_type": "execute_result",
          "data": {
            "text/plain": [
              "array([25,  5,  3])"
            ]
          },
          "metadata": {},
          "execution_count": 31
        }
      ]
    },
    {
      "cell_type": "code",
      "source": [
        "M[1,:]\n",
        "# second row"
      ],
      "metadata": {
        "colab": {
          "base_uri": "https://localhost:8080/"
        },
        "id": "aehJMJlLetAG",
        "outputId": "7f136965-0d93-493c-c658-1a1a4ca2287f"
      },
      "execution_count": 34,
      "outputs": [
        {
          "output_type": "execute_result",
          "data": {
            "text/plain": [
              "array([ 5, 26])"
            ]
          },
          "metadata": {},
          "execution_count": 34
        }
      ]
    },
    {
      "cell_type": "code",
      "source": [
        "tf.rank(M_tf)"
      ],
      "metadata": {
        "colab": {
          "base_uri": "https://localhost:8080/"
        },
        "id": "2PLbHPh3f-c0",
        "outputId": "eef8a115-72e5-4f00-f297-8ecf1c0a80e4"
      },
      "execution_count": 37,
      "outputs": [
        {
          "output_type": "execute_result",
          "data": {
            "text/plain": [
              "<tf.Tensor: shape=(), dtype=int32, numpy=2>"
            ]
          },
          "metadata": {},
          "execution_count": 37
        }
      ]
    }
  ]
}
