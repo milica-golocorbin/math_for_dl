{
  "nbformat": 4,
  "nbformat_minor": 0,
  "metadata": {
    "colab": {
      "provenance": [],
      "authorship_tag": "ABX9TyPjGjIkO7nCGVC00ckLN4uN",
      "include_colab_link": true
    },
    "kernelspec": {
      "name": "python3",
      "display_name": "Python 3"
    },
    "language_info": {
      "name": "python"
    }
  },
  "cells": [
    {
      "cell_type": "markdown",
      "metadata": {
        "id": "view-in-github",
        "colab_type": "text"
      },
      "source": [
        "<a href=\"https://colab.research.google.com/github/milica-golocorbin/math_for_dl/blob/main/Linear%20Algebra.ipynb\" target=\"_parent\"><img src=\"https://colab.research.google.com/assets/colab-badge.svg\" alt=\"Open In Colab\"/></a>"
      ]
    },
    {
      "cell_type": "code",
      "execution_count": 1,
      "metadata": {
        "id": "KrP8wZojXGh9"
      },
      "outputs": [],
      "source": [
        "import numpy as np\n",
        "import torch\n",
        "import tensorflow as tf"
      ]
    },
    {
      "cell_type": "markdown",
      "source": [
        "# Data Structures for Linear Algebra\n",
        "\n",
        "## Tensors - Fundamental data structure\n",
        "\n",
        "Tensors are array of numbers. Tensors are machine learning generalization of vectors and matrices to any number of dimensions.\n",
        "\n",
        "- zero dimensional SCALAR tensor\n",
        "- one dimensional VECTOR tensor\n",
        "- two dimensional MATRIX tensor\n",
        "- higher dimensional n TENSOR"
      ],
      "metadata": {
        "id": "hYEzevo6G0TF"
      }
    },
    {
      "cell_type": "code",
      "source": [
        "# SCALAR TENSORS\n",
        "# single number, no dimensions\n",
        "\n",
        "# base python\n",
        "num = 25\n",
        "type(num)\n",
        "\n",
        "# pytorch\n",
        "num_pt = torch.tensor(25)\n",
        "num_pt\n",
        "\n",
        "# tensorflow\n",
        "num_tf = tf.Variable(25)\n",
        "num_tf"
      ],
      "metadata": {
        "colab": {
          "base_uri": "https://localhost:8080/"
        },
        "id": "3O2T9WDuXQuW",
        "outputId": "b12ee433-1c8c-4e12-f1fc-a9611a40efc2"
      },
      "execution_count": 2,
      "outputs": [
        {
          "output_type": "execute_result",
          "data": {
            "text/plain": [
              "<tf.Variable 'Variable:0' shape=() dtype=int32, numpy=25>"
            ]
          },
          "metadata": {},
          "execution_count": 2
        }
      ]
    },
    {
      "cell_type": "code",
      "source": [
        "# number of dimensions - pytorch\n",
        "num_pt.shape"
      ],
      "metadata": {
        "colab": {
          "base_uri": "https://localhost:8080/"
        },
        "id": "nrbMaM3jYnkK",
        "outputId": "f9e64a84-8255-4cc7-9cfe-7864b87faade"
      },
      "execution_count": 3,
      "outputs": [
        {
          "output_type": "execute_result",
          "data": {
            "text/plain": [
              "torch.Size([])"
            ]
          },
          "metadata": {},
          "execution_count": 3
        }
      ]
    },
    {
      "cell_type": "code",
      "source": [
        "# number of dimensions - tensorflow\n",
        "num_tf.shape"
      ],
      "metadata": {
        "colab": {
          "base_uri": "https://localhost:8080/"
        },
        "id": "ABvIcx5CZMG_",
        "outputId": "fa0f36c6-e1e8-4353-a6d4-b2bcadd6f608"
      },
      "execution_count": 4,
      "outputs": [
        {
          "output_type": "execute_result",
          "data": {
            "text/plain": [
              "TensorShape([])"
            ]
          },
          "metadata": {},
          "execution_count": 4
        }
      ]
    },
    {
      "cell_type": "code",
      "source": [
        "result = num_pt + num_tf\n",
        "# result\n",
        "result.numpy()"
      ],
      "metadata": {
        "colab": {
          "base_uri": "https://localhost:8080/"
        },
        "id": "8kWhANQyZ7jW",
        "outputId": "25f4ad4c-9f7c-405d-b03e-b52230b2f48f"
      },
      "execution_count": 5,
      "outputs": [
        {
          "output_type": "execute_result",
          "data": {
            "text/plain": [
              "50"
            ]
          },
          "metadata": {},
          "execution_count": 5
        }
      ]
    },
    {
      "cell_type": "code",
      "source": [
        "# VECTOR TENSORS\n",
        "# one dimensional array of numbers(scalars)\n",
        "\n",
        "# numpy\n",
        "y = np.array([25, 2, 5])\n",
        "y\n",
        "\n",
        "# pytorch\n",
        "y_pt = torch.tensor([25, 2, 5])\n",
        "y_pt\n",
        "\n",
        "# tensorflow\n",
        "y_tf = tf.Variable([25, 2, 5])\n",
        "y_tf"
      ],
      "metadata": {
        "colab": {
          "base_uri": "https://localhost:8080/"
        },
        "id": "TU4EPkgDb8jk",
        "outputId": "818c80d7-653a-4e96-f74a-6778c518fce3"
      },
      "execution_count": 6,
      "outputs": [
        {
          "output_type": "execute_result",
          "data": {
            "text/plain": [
              "<tf.Variable 'Variable:0' shape=(3,) dtype=int32, numpy=array([25,  2,  5], dtype=int32)>"
            ]
          },
          "metadata": {},
          "execution_count": 6
        }
      ]
    },
    {
      "cell_type": "code",
      "source": [
        "y.shape"
      ],
      "metadata": {
        "colab": {
          "base_uri": "https://localhost:8080/"
        },
        "id": "339EnNkncpge",
        "outputId": "4729983a-0355-47db-e2da-e706109cfa18"
      },
      "execution_count": 7,
      "outputs": [
        {
          "output_type": "execute_result",
          "data": {
            "text/plain": [
              "(3,)"
            ]
          },
          "metadata": {},
          "execution_count": 7
        }
      ]
    },
    {
      "cell_type": "code",
      "source": [
        "y[0]"
      ],
      "metadata": {
        "colab": {
          "base_uri": "https://localhost:8080/"
        },
        "id": "ZrRlAOvNWwCT",
        "outputId": "4aa77d5e-1172-4b47-bb39-d8a2e36f2ca8"
      },
      "execution_count": 8,
      "outputs": [
        {
          "output_type": "execute_result",
          "data": {
            "text/plain": [
              "25"
            ]
          },
          "metadata": {},
          "execution_count": 8
        }
      ]
    },
    {
      "cell_type": "markdown",
      "source": [
        "## Tensor Transposition\n",
        "\n",
        "Transpose converts column to row and vice versa.\n",
        "\n",
        "**$(X^T)_i,_j = X_j,_i$**"
      ],
      "metadata": {
        "id": "8dUtZ3gOXRhS"
      }
    },
    {
      "cell_type": "code",
      "source": [
        "# vector transposition\n",
        "# row vector (1,3) -> column vector (3,1)\n",
        "\n",
        "y_t = y.T\n",
        "y_t\n",
        "\n",
        "z = np.array([[25, 2, 3]])\n",
        "z_t = z.T\n",
        "z_t"
      ],
      "metadata": {
        "colab": {
          "base_uri": "https://localhost:8080/"
        },
        "id": "xx-92gEcn5se",
        "outputId": "07e723f8-f08f-4472-9e07-daba2f6cab4b"
      },
      "execution_count": 9,
      "outputs": [
        {
          "output_type": "execute_result",
          "data": {
            "text/plain": [
              "array([[25],\n",
              "       [ 2],\n",
              "       [ 3]])"
            ]
          },
          "metadata": {},
          "execution_count": 9
        }
      ]
    },
    {
      "cell_type": "code",
      "source": [
        "z_t.shape"
      ],
      "metadata": {
        "colab": {
          "base_uri": "https://localhost:8080/"
        },
        "id": "KrEHLOo0qbkP",
        "outputId": "ec1c6f9c-6530-45ae-97e5-0e5b3b0dc295"
      },
      "execution_count": 10,
      "outputs": [
        {
          "output_type": "execute_result",
          "data": {
            "text/plain": [
              "(3, 1)"
            ]
          },
          "metadata": {},
          "execution_count": 10
        }
      ]
    },
    {
      "cell_type": "code",
      "source": [
        "# MATRIX TENSORS\n",
        "# two dimensional array of numbers(scalars)\n",
        "\n",
        "# numpy\n",
        "M = np.array([[25, 2], [5, 26], [3, 7]])\n",
        "M\n",
        "\n",
        "# pytorch\n",
        "M_pt = torch.tensor([[25, 2], [5, 26], [3, 7]])\n",
        "M_pt\n",
        "\n",
        "# tensorflow\n",
        "M_tf = tf.Variable([[25, 2], [5, 26], [3, 7]])\n",
        "M_tf"
      ],
      "metadata": {
        "colab": {
          "base_uri": "https://localhost:8080/"
        },
        "id": "Ax4egEwlWzc-",
        "outputId": "735c9ced-1d4e-4269-d56c-2c2489d0e31c"
      },
      "execution_count": 11,
      "outputs": [
        {
          "output_type": "execute_result",
          "data": {
            "text/plain": [
              "<tf.Variable 'Variable:0' shape=(3, 2) dtype=int32, numpy=\n",
              "array([[25,  2],\n",
              "       [ 5, 26],\n",
              "       [ 3,  7]], dtype=int32)>"
            ]
          },
          "metadata": {},
          "execution_count": 11
        }
      ]
    },
    {
      "cell_type": "code",
      "source": [
        "M.shape\n",
        "# (row, column)"
      ],
      "metadata": {
        "colab": {
          "base_uri": "https://localhost:8080/"
        },
        "id": "wbrnOYiEeS_8",
        "outputId": "46ac9eed-47a1-40f9-8816-6eb734a17d52"
      },
      "execution_count": 12,
      "outputs": [
        {
          "output_type": "execute_result",
          "data": {
            "text/plain": [
              "(3, 2)"
            ]
          },
          "metadata": {},
          "execution_count": 12
        }
      ]
    },
    {
      "cell_type": "code",
      "source": [
        "M.size"
      ],
      "metadata": {
        "colab": {
          "base_uri": "https://localhost:8080/"
        },
        "id": "9B3gwE4eeXZ-",
        "outputId": "c7c81097-97da-4e9a-e8ef-0181709b8634"
      },
      "execution_count": 13,
      "outputs": [
        {
          "output_type": "execute_result",
          "data": {
            "text/plain": [
              "6"
            ]
          },
          "metadata": {},
          "execution_count": 13
        }
      ]
    },
    {
      "cell_type": "code",
      "source": [
        "M[:,0]\n",
        "# first column"
      ],
      "metadata": {
        "colab": {
          "base_uri": "https://localhost:8080/"
        },
        "id": "80u3urlYegTy",
        "outputId": "832532c5-c2c5-47f5-e8bd-61d039f25a06"
      },
      "execution_count": 14,
      "outputs": [
        {
          "output_type": "execute_result",
          "data": {
            "text/plain": [
              "array([25,  5,  3])"
            ]
          },
          "metadata": {},
          "execution_count": 14
        }
      ]
    },
    {
      "cell_type": "code",
      "source": [
        "M[1,:]\n",
        "# second row"
      ],
      "metadata": {
        "colab": {
          "base_uri": "https://localhost:8080/"
        },
        "id": "aehJMJlLetAG",
        "outputId": "0d427516-1433-41d0-9f95-e6a26def9851"
      },
      "execution_count": 15,
      "outputs": [
        {
          "output_type": "execute_result",
          "data": {
            "text/plain": [
              "array([ 5, 26])"
            ]
          },
          "metadata": {},
          "execution_count": 15
        }
      ]
    },
    {
      "cell_type": "code",
      "source": [
        "tf.rank(M_tf)"
      ],
      "metadata": {
        "colab": {
          "base_uri": "https://localhost:8080/"
        },
        "id": "2PLbHPh3f-c0",
        "outputId": "fc9c34f4-d83a-4932-b797-cc38b205885d"
      },
      "execution_count": 16,
      "outputs": [
        {
          "output_type": "execute_result",
          "data": {
            "text/plain": [
              "<tf.Tensor: shape=(), dtype=int32, numpy=2>"
            ]
          },
          "metadata": {},
          "execution_count": 16
        }
      ]
    },
    {
      "cell_type": "code",
      "source": [
        "# matrix transposition\n",
        "\n",
        "M.T"
      ],
      "metadata": {
        "colab": {
          "base_uri": "https://localhost:8080/"
        },
        "id": "Bbd2jQmEUJ9P",
        "outputId": "1f410748-c94f-470e-db51-72b32c0d5f5a"
      },
      "execution_count": 17,
      "outputs": [
        {
          "output_type": "execute_result",
          "data": {
            "text/plain": [
              "array([[25,  5,  3],\n",
              "       [ 2, 26,  7]])"
            ]
          },
          "metadata": {},
          "execution_count": 17
        }
      ]
    },
    {
      "cell_type": "code",
      "source": [
        "# matrix transposition pytorch\n",
        "\n",
        "M_pt.T"
      ],
      "metadata": {
        "colab": {
          "base_uri": "https://localhost:8080/"
        },
        "id": "X1XDPoagYRIZ",
        "outputId": "3b297d62-7a1a-4608-c0fe-9cee378f749d"
      },
      "execution_count": 18,
      "outputs": [
        {
          "output_type": "execute_result",
          "data": {
            "text/plain": [
              "tensor([[25,  5,  3],\n",
              "        [ 2, 26,  7]])"
            ]
          },
          "metadata": {},
          "execution_count": 18
        }
      ]
    },
    {
      "cell_type": "code",
      "source": [
        "# matrix transposition tensorflow\n",
        "\n",
        "tf.transpose(M_tf)"
      ],
      "metadata": {
        "colab": {
          "base_uri": "https://localhost:8080/"
        },
        "id": "WxD6rPFaYaSb",
        "outputId": "5a0bd010-3f07-40e3-b9b4-505df41b57a7"
      },
      "execution_count": 19,
      "outputs": [
        {
          "output_type": "execute_result",
          "data": {
            "text/plain": [
              "<tf.Tensor: shape=(2, 3), dtype=int32, numpy=\n",
              "array([[25,  5,  3],\n",
              "       [ 2, 26,  7]], dtype=int32)>"
            ]
          },
          "metadata": {},
          "execution_count": 19
        }
      ]
    },
    {
      "cell_type": "code",
      "source": [
        "y"
      ],
      "metadata": {
        "colab": {
          "base_uri": "https://localhost:8080/"
        },
        "id": "wSLpO9FTZ2dp",
        "outputId": "fd7196cf-9a9e-47b4-b1d3-f0bc9499c5ab"
      },
      "execution_count": 20,
      "outputs": [
        {
          "output_type": "execute_result",
          "data": {
            "text/plain": [
              "array([25,  2,  5])"
            ]
          },
          "metadata": {},
          "execution_count": 20
        }
      ]
    },
    {
      "cell_type": "code",
      "source": [
        "# arithmetic operations\n",
        "#vectors\n",
        "y * 2"
      ],
      "metadata": {
        "colab": {
          "base_uri": "https://localhost:8080/"
        },
        "id": "KhJrXwFTZZr8",
        "outputId": "4aef1975-4379-442a-ec35-bfe2b48f2ff8"
      },
      "execution_count": 21,
      "outputs": [
        {
          "output_type": "execute_result",
          "data": {
            "text/plain": [
              "array([50,  4, 10])"
            ]
          },
          "metadata": {},
          "execution_count": 21
        }
      ]
    },
    {
      "cell_type": "code",
      "source": [
        "y + 2"
      ],
      "metadata": {
        "colab": {
          "base_uri": "https://localhost:8080/"
        },
        "id": "JYfUdyp_aIEL",
        "outputId": "8ac9e857-5877-4f5d-fe9e-bac82c6bee1a"
      },
      "execution_count": 22,
      "outputs": [
        {
          "output_type": "execute_result",
          "data": {
            "text/plain": [
              "array([27,  4,  7])"
            ]
          },
          "metadata": {},
          "execution_count": 22
        }
      ]
    },
    {
      "cell_type": "code",
      "source": [
        "M"
      ],
      "metadata": {
        "colab": {
          "base_uri": "https://localhost:8080/"
        },
        "id": "XLutb1qWZ4Ka",
        "outputId": "81841394-0dd2-40dd-8c8e-2c92821d1329"
      },
      "execution_count": 23,
      "outputs": [
        {
          "output_type": "execute_result",
          "data": {
            "text/plain": [
              "array([[25,  2],\n",
              "       [ 5, 26],\n",
              "       [ 3,  7]])"
            ]
          },
          "metadata": {},
          "execution_count": 23
        }
      ]
    },
    {
      "cell_type": "code",
      "source": [
        "# arithmetic operations\n",
        "#matrix\n",
        "M * 2"
      ],
      "metadata": {
        "colab": {
          "base_uri": "https://localhost:8080/"
        },
        "id": "Y-ssgm57Zwa0",
        "outputId": "10a8853c-575f-439a-b7eb-65e969a7731a"
      },
      "execution_count": 24,
      "outputs": [
        {
          "output_type": "execute_result",
          "data": {
            "text/plain": [
              "array([[50,  4],\n",
              "       [10, 52],\n",
              "       [ 6, 14]])"
            ]
          },
          "metadata": {},
          "execution_count": 24
        }
      ]
    },
    {
      "cell_type": "code",
      "source": [
        "M + 2"
      ],
      "metadata": {
        "colab": {
          "base_uri": "https://localhost:8080/"
        },
        "id": "19cBvOyaaMi_",
        "outputId": "11604b6c-8551-476e-8889-616766e19d97"
      },
      "execution_count": 25,
      "outputs": [
        {
          "output_type": "execute_result",
          "data": {
            "text/plain": [
              "array([[27,  4],\n",
              "       [ 7, 28],\n",
              "       [ 5,  9]])"
            ]
          },
          "metadata": {},
          "execution_count": 25
        }
      ]
    },
    {
      "cell_type": "code",
      "source": [
        "# with pytorch\n",
        "\n",
        "M_pt * 2"
      ],
      "metadata": {
        "colab": {
          "base_uri": "https://localhost:8080/"
        },
        "id": "vYJnxZSraRd9",
        "outputId": "0032e253-6539-4b82-a03d-db4d75e931d1"
      },
      "execution_count": 26,
      "outputs": [
        {
          "output_type": "execute_result",
          "data": {
            "text/plain": [
              "tensor([[50,  4],\n",
              "        [10, 52],\n",
              "        [ 6, 14]])"
            ]
          },
          "metadata": {},
          "execution_count": 26
        }
      ]
    },
    {
      "cell_type": "code",
      "source": [
        "torch.add(M_pt, 2)"
      ],
      "metadata": {
        "colab": {
          "base_uri": "https://localhost:8080/"
        },
        "id": "UtH1DCXpah5M",
        "outputId": "ae9b2ce9-5b61-42b1-daab-95906564dab5"
      },
      "execution_count": 27,
      "outputs": [
        {
          "output_type": "execute_result",
          "data": {
            "text/plain": [
              "tensor([[27,  4],\n",
              "        [ 7, 28],\n",
              "        [ 5,  9]])"
            ]
          },
          "metadata": {},
          "execution_count": 27
        }
      ]
    },
    {
      "cell_type": "code",
      "source": [
        "torch.mul(M_pt, 2)"
      ],
      "metadata": {
        "colab": {
          "base_uri": "https://localhost:8080/"
        },
        "id": "Nl_31bB2anQW",
        "outputId": "05db2e70-9f93-43f7-eeb0-f13de670d6fd"
      },
      "execution_count": 28,
      "outputs": [
        {
          "output_type": "execute_result",
          "data": {
            "text/plain": [
              "tensor([[50,  4],\n",
              "        [10, 52],\n",
              "        [ 6, 14]])"
            ]
          },
          "metadata": {},
          "execution_count": 28
        }
      ]
    },
    {
      "cell_type": "code",
      "source": [
        "# with tensorflow\n",
        "\n",
        "M_tf * 2"
      ],
      "metadata": {
        "colab": {
          "base_uri": "https://localhost:8080/"
        },
        "id": "TQ4lKzydat7a",
        "outputId": "ee39f8d6-c768-4be5-996e-39e57b800835"
      },
      "execution_count": 29,
      "outputs": [
        {
          "output_type": "execute_result",
          "data": {
            "text/plain": [
              "<tf.Tensor: shape=(3, 2), dtype=int32, numpy=\n",
              "array([[50,  4],\n",
              "       [10, 52],\n",
              "       [ 6, 14]], dtype=int32)>"
            ]
          },
          "metadata": {},
          "execution_count": 29
        }
      ]
    },
    {
      "cell_type": "code",
      "source": [
        "tf.add(M_tf, 2)"
      ],
      "metadata": {
        "colab": {
          "base_uri": "https://localhost:8080/"
        },
        "id": "Xd6miBsFa2Fa",
        "outputId": "3caaa138-c919-409c-e6b7-6f8d78232002"
      },
      "execution_count": 30,
      "outputs": [
        {
          "output_type": "execute_result",
          "data": {
            "text/plain": [
              "<tf.Tensor: shape=(3, 2), dtype=int32, numpy=\n",
              "array([[27,  4],\n",
              "       [ 7, 28],\n",
              "       [ 5,  9]], dtype=int32)>"
            ]
          },
          "metadata": {},
          "execution_count": 30
        }
      ]
    },
    {
      "cell_type": "code",
      "source": [
        "tf.multiply(M_tf, 2)"
      ],
      "metadata": {
        "colab": {
          "base_uri": "https://localhost:8080/"
        },
        "id": "PntJ72iMa6GB",
        "outputId": "458c7c2d-3803-425e-da8e-7347e47decd7"
      },
      "execution_count": 31,
      "outputs": [
        {
          "output_type": "execute_result",
          "data": {
            "text/plain": [
              "<tf.Tensor: shape=(3, 2), dtype=int32, numpy=\n",
              "array([[50,  4],\n",
              "       [10, 52],\n",
              "       [ 6, 14]], dtype=int32)>"
            ]
          },
          "metadata": {},
          "execution_count": 31
        }
      ]
    },
    {
      "cell_type": "markdown",
      "source": [
        "## HADAMARD PRODUCT\n",
        "\n",
        "If two tensors have same size, we multiply element by element. It is element wise product.\n",
        "\n",
        "$A \\odot X$"
      ],
      "metadata": {
        "id": "mPfOV2Tcbqoy"
      }
    },
    {
      "cell_type": "code",
      "source": [
        "A = M + 2\n",
        "\n",
        "A"
      ],
      "metadata": {
        "colab": {
          "base_uri": "https://localhost:8080/"
        },
        "id": "4iXtskZ_blIF",
        "outputId": "8993f13a-b2ec-44ca-ec7f-0a3402895756"
      },
      "execution_count": 32,
      "outputs": [
        {
          "output_type": "execute_result",
          "data": {
            "text/plain": [
              "array([[27,  4],\n",
              "       [ 7, 28],\n",
              "       [ 5,  9]])"
            ]
          },
          "metadata": {},
          "execution_count": 32
        }
      ]
    },
    {
      "cell_type": "code",
      "source": [
        "M"
      ],
      "metadata": {
        "colab": {
          "base_uri": "https://localhost:8080/"
        },
        "id": "egNahBpwcv1V",
        "outputId": "b3af721c-4f85-49d7-b161-4c831d5fdc5b"
      },
      "execution_count": 33,
      "outputs": [
        {
          "output_type": "execute_result",
          "data": {
            "text/plain": [
              "array([[25,  2],\n",
              "       [ 5, 26],\n",
              "       [ 3,  7]])"
            ]
          },
          "metadata": {},
          "execution_count": 33
        }
      ]
    },
    {
      "cell_type": "code",
      "source": [
        "A + M"
      ],
      "metadata": {
        "colab": {
          "base_uri": "https://localhost:8080/"
        },
        "id": "hh5n2ViBcyUQ",
        "outputId": "93119b7d-8090-49eb-b49c-18345608cc9a"
      },
      "execution_count": 34,
      "outputs": [
        {
          "output_type": "execute_result",
          "data": {
            "text/plain": [
              "array([[52,  6],\n",
              "       [12, 54],\n",
              "       [ 8, 16]])"
            ]
          },
          "metadata": {},
          "execution_count": 34
        }
      ]
    },
    {
      "cell_type": "code",
      "source": [
        "# HADAMARD PRODUCT\n",
        "A * M"
      ],
      "metadata": {
        "colab": {
          "base_uri": "https://localhost:8080/"
        },
        "id": "9WSPsswnc3re",
        "outputId": "d15d30bf-120c-4405-a705-5571dc54bf19"
      },
      "execution_count": 35,
      "outputs": [
        {
          "output_type": "execute_result",
          "data": {
            "text/plain": [
              "array([[675,   8],\n",
              "       [ 35, 728],\n",
              "       [ 15,  63]])"
            ]
          },
          "metadata": {},
          "execution_count": 35
        }
      ]
    },
    {
      "cell_type": "code",
      "source": [
        "# Same in PyTorch and TensorFlow."
      ],
      "metadata": {
        "id": "2YjON9g3dCh9"
      },
      "execution_count": 36,
      "outputs": []
    },
    {
      "cell_type": "markdown",
      "source": [
        "## REDUCTION\n",
        "\n",
        "Calculating the sum across all elements of a tensor.\n",
        "\n",
        "- For vector **x** of length *n*, we calculate: \n",
        "\n",
        "  $\\sum^n_{i=1} x_i$\n",
        "\n",
        "  $x_i$ refers to all of the elements from the first element(i=1), to the $n^{th}$ one. Sigma($\\sum$) means sum.\n",
        "\n",
        "- For matrix **X** with *m* by *n* dimensions, we calcualte:\n",
        "\n",
        "   $\\sum^m_{i=1} \\sum^n_{j=1} X_{i,j}$\n",
        "\n",
        "Basically with this formula we are saying **sum all elements**. Reduce to total."
      ],
      "metadata": {
        "id": "-psajFg-fdSj"
      }
    },
    {
      "cell_type": "code",
      "source": [
        "y"
      ],
      "metadata": {
        "colab": {
          "base_uri": "https://localhost:8080/"
        },
        "id": "oqirx8okjt7G",
        "outputId": "af8828c9-c8d5-4a56-e631-4a231a1edb7e"
      },
      "execution_count": 37,
      "outputs": [
        {
          "output_type": "execute_result",
          "data": {
            "text/plain": [
              "array([25,  2,  5])"
            ]
          },
          "metadata": {},
          "execution_count": 37
        }
      ]
    },
    {
      "cell_type": "code",
      "source": [
        "y.sum()"
      ],
      "metadata": {
        "colab": {
          "base_uri": "https://localhost:8080/"
        },
        "id": "G2A1J1z0kK9H",
        "outputId": "e54a3b4d-dfcb-4574-f6c1-f6df0b5b0338"
      },
      "execution_count": 38,
      "outputs": [
        {
          "output_type": "execute_result",
          "data": {
            "text/plain": [
              "32"
            ]
          },
          "metadata": {},
          "execution_count": 38
        }
      ]
    },
    {
      "cell_type": "code",
      "source": [
        "M"
      ],
      "metadata": {
        "colab": {
          "base_uri": "https://localhost:8080/"
        },
        "id": "Z68HJcxzkOq9",
        "outputId": "10298d8d-eb59-41a3-cf7b-67ad5f8cbaa2"
      },
      "execution_count": 39,
      "outputs": [
        {
          "output_type": "execute_result",
          "data": {
            "text/plain": [
              "array([[25,  2],\n",
              "       [ 5, 26],\n",
              "       [ 3,  7]])"
            ]
          },
          "metadata": {},
          "execution_count": 39
        }
      ]
    },
    {
      "cell_type": "code",
      "source": [
        "M.sum()"
      ],
      "metadata": {
        "colab": {
          "base_uri": "https://localhost:8080/"
        },
        "id": "P44wB2lhkR6i",
        "outputId": "cb9e8b2e-6e2a-4944-cb15-7b36638d0f97"
      },
      "execution_count": 40,
      "outputs": [
        {
          "output_type": "execute_result",
          "data": {
            "text/plain": [
              "68"
            ]
          },
          "metadata": {},
          "execution_count": 40
        }
      ]
    },
    {
      "cell_type": "code",
      "source": [
        "torch.sum(y_pt)"
      ],
      "metadata": {
        "colab": {
          "base_uri": "https://localhost:8080/"
        },
        "id": "7ySFPJpVkf9B",
        "outputId": "78e722e5-cfd5-4063-d838-18191623070b"
      },
      "execution_count": 41,
      "outputs": [
        {
          "output_type": "execute_result",
          "data": {
            "text/plain": [
              "tensor(32)"
            ]
          },
          "metadata": {},
          "execution_count": 41
        }
      ]
    },
    {
      "cell_type": "code",
      "source": [
        "torch.sum(M_pt)"
      ],
      "metadata": {
        "colab": {
          "base_uri": "https://localhost:8080/"
        },
        "id": "P44lmaVJkXMG",
        "outputId": "849b9390-9e95-4a7f-b5f5-5fd945b371b3"
      },
      "execution_count": 42,
      "outputs": [
        {
          "output_type": "execute_result",
          "data": {
            "text/plain": [
              "tensor(68)"
            ]
          },
          "metadata": {},
          "execution_count": 42
        }
      ]
    },
    {
      "cell_type": "code",
      "source": [
        "tf.reduce_sum(y_tf)"
      ],
      "metadata": {
        "colab": {
          "base_uri": "https://localhost:8080/"
        },
        "id": "rqagA0lzkk3R",
        "outputId": "8c2a5f42-dab6-4543-e7f5-aedb576e2775"
      },
      "execution_count": 43,
      "outputs": [
        {
          "output_type": "execute_result",
          "data": {
            "text/plain": [
              "<tf.Tensor: shape=(), dtype=int32, numpy=32>"
            ]
          },
          "metadata": {},
          "execution_count": 43
        }
      ]
    },
    {
      "cell_type": "code",
      "source": [
        "tf.reduce_sum(M_tf)"
      ],
      "metadata": {
        "colab": {
          "base_uri": "https://localhost:8080/"
        },
        "id": "RdBqamz-kspQ",
        "outputId": "4f720b11-5645-470b-a093-475af7b974a7"
      },
      "execution_count": 44,
      "outputs": [
        {
          "output_type": "execute_result",
          "data": {
            "text/plain": [
              "<tf.Tensor: shape=(), dtype=int32, numpy=68>"
            ]
          },
          "metadata": {},
          "execution_count": 44
        }
      ]
    },
    {
      "cell_type": "code",
      "source": [
        "# Sum only axis\n",
        "\n",
        "M.sum(axis=0)\n",
        "# summing columns"
      ],
      "metadata": {
        "colab": {
          "base_uri": "https://localhost:8080/"
        },
        "id": "xpz-aSmglXnd",
        "outputId": "b6ac269d-be44-4f68-a617-88db510ecbe5"
      },
      "execution_count": 45,
      "outputs": [
        {
          "output_type": "execute_result",
          "data": {
            "text/plain": [
              "array([33, 35])"
            ]
          },
          "metadata": {},
          "execution_count": 45
        }
      ]
    },
    {
      "cell_type": "code",
      "source": [
        "# Sum only axis\n",
        "\n",
        "M.sum(axis=1)\n",
        "# summing rows"
      ],
      "metadata": {
        "colab": {
          "base_uri": "https://localhost:8080/"
        },
        "id": "weAQI9alk6pw",
        "outputId": "a43edeb1-d958-4e2a-d029-415cdbcf282d"
      },
      "execution_count": 46,
      "outputs": [
        {
          "output_type": "execute_result",
          "data": {
            "text/plain": [
              "array([27, 31, 10])"
            ]
          },
          "metadata": {},
          "execution_count": 46
        }
      ]
    },
    {
      "cell_type": "code",
      "source": [
        "torch.sum(M_pt, 0)"
      ],
      "metadata": {
        "colab": {
          "base_uri": "https://localhost:8080/"
        },
        "id": "XmizMn7vl9a1",
        "outputId": "1606ca6c-8fa8-44e4-bbe6-66954ff537e5"
      },
      "execution_count": 47,
      "outputs": [
        {
          "output_type": "execute_result",
          "data": {
            "text/plain": [
              "tensor([33, 35])"
            ]
          },
          "metadata": {},
          "execution_count": 47
        }
      ]
    },
    {
      "cell_type": "code",
      "source": [
        "tf.reduce_sum(M_tf, 1)"
      ],
      "metadata": {
        "colab": {
          "base_uri": "https://localhost:8080/"
        },
        "id": "R4tu0MtgmEZD",
        "outputId": "d2db5b37-216e-4031-b601-0356baf07821"
      },
      "execution_count": 48,
      "outputs": [
        {
          "output_type": "execute_result",
          "data": {
            "text/plain": [
              "<tf.Tensor: shape=(3,), dtype=int32, numpy=array([27, 31, 10], dtype=int32)>"
            ]
          },
          "metadata": {},
          "execution_count": 48
        }
      ]
    },
    {
      "cell_type": "markdown",
      "source": [
        "## DOT PRODUCT\n",
        "\n",
        "It is like combination of HADAMARD PRODUCT and REDUCTION.\n",
        "\n",
        "It is done between two vectors.\n",
        "\n",
        "If we have two vectors(x,y) with the same length, we can calculate dot product between them. This is annotated by:\n",
        "\n",
        "- $x * y$\n",
        "- $x^T y$\n",
        "- $<x,y>$\n",
        "\n",
        "We calculate products in an element-wise and then sum reductively across the procucts to scalar value.\n",
        "\n",
        "$x * y = \\sum^n_{i=1} x_iy_i$\n",
        "\n",
        "for first element of x and for the first element of y, we calculate the product(we multiply them) and we do that for the second, all the way up to up to $n^{th}$ element of x by $n^{th}$ element of y. Once we have all of the products, we than sum up, $\\sum$.\n",
        "\n",
        "DOT PRODUCT IS PERFORMED AT EVERY ATRIFICIAL NEURON IN A DEEP NEURAL NETWORK."
      ],
      "metadata": {
        "id": "NIp-Ba0mmfqq"
      }
    },
    {
      "cell_type": "code",
      "source": [
        "y"
      ],
      "metadata": {
        "id": "v6i3kLvyAM2Y",
        "outputId": "f71e52bb-4a6b-41d5-b863-27805980eda2",
        "colab": {
          "base_uri": "https://localhost:8080/"
        }
      },
      "execution_count": 49,
      "outputs": [
        {
          "output_type": "execute_result",
          "data": {
            "text/plain": [
              "array([25,  2,  5])"
            ]
          },
          "metadata": {},
          "execution_count": 49
        }
      ]
    },
    {
      "cell_type": "code",
      "source": [
        "x = np.array([0,1,2])\n",
        "x"
      ],
      "metadata": {
        "id": "ZRb2y2fQBn4x",
        "outputId": "37ee4414-d611-461a-d689-11ef06e5b105",
        "colab": {
          "base_uri": "https://localhost:8080/"
        }
      },
      "execution_count": 50,
      "outputs": [
        {
          "output_type": "execute_result",
          "data": {
            "text/plain": [
              "array([0, 1, 2])"
            ]
          },
          "metadata": {},
          "execution_count": 50
        }
      ]
    },
    {
      "cell_type": "code",
      "source": [
        "# manual dot product\n",
        "res = 25 * 0 + 2 * 1 + 5 * 2\n",
        "res"
      ],
      "metadata": {
        "id": "pXpvx3jLCJxi",
        "outputId": "8e6d140f-26d2-4288-e8c3-33616149f64c",
        "colab": {
          "base_uri": "https://localhost:8080/"
        }
      },
      "execution_count": 51,
      "outputs": [
        {
          "output_type": "execute_result",
          "data": {
            "text/plain": [
              "12"
            ]
          },
          "metadata": {},
          "execution_count": 51
        }
      ]
    },
    {
      "cell_type": "code",
      "source": [
        "# dot product numpy\n",
        "np.dot(x,y)"
      ],
      "metadata": {
        "id": "1zymyre1CXrQ",
        "outputId": "e96b0c5f-ae47-4462-b20e-8b0c6a587edc",
        "colab": {
          "base_uri": "https://localhost:8080/"
        }
      },
      "execution_count": 52,
      "outputs": [
        {
          "output_type": "execute_result",
          "data": {
            "text/plain": [
              "12"
            ]
          },
          "metadata": {},
          "execution_count": 52
        }
      ]
    },
    {
      "cell_type": "code",
      "source": [
        "y_pt"
      ],
      "metadata": {
        "id": "O8swPI6LEqlW",
        "outputId": "1e76a1e6-fd5f-4057-dfa7-285a37bcd742",
        "colab": {
          "base_uri": "https://localhost:8080/"
        }
      },
      "execution_count": 53,
      "outputs": [
        {
          "output_type": "execute_result",
          "data": {
            "text/plain": [
              "tensor([25,  2,  5])"
            ]
          },
          "metadata": {},
          "execution_count": 53
        }
      ]
    },
    {
      "cell_type": "code",
      "source": [
        "x_pt = torch.tensor([0,1,2])\n",
        "x_pt"
      ],
      "metadata": {
        "id": "9nMwuSgWE6C-",
        "outputId": "150fd4a2-4d42-4831-ecd3-144078b77015",
        "colab": {
          "base_uri": "https://localhost:8080/"
        }
      },
      "execution_count": 54,
      "outputs": [
        {
          "output_type": "execute_result",
          "data": {
            "text/plain": [
              "tensor([0, 1, 2])"
            ]
          },
          "metadata": {},
          "execution_count": 54
        }
      ]
    },
    {
      "cell_type": "code",
      "source": [
        "# dot product pytorch\n",
        "\n",
        "res_pt = torch.dot(y_pt, x_pt)\n",
        "res_pt"
      ],
      "metadata": {
        "id": "fXSOZEF4FAbH",
        "outputId": "e79f7bd0-2d19-4a7f-88ec-ec53d734aa59",
        "colab": {
          "base_uri": "https://localhost:8080/"
        }
      },
      "execution_count": 55,
      "outputs": [
        {
          "output_type": "execute_result",
          "data": {
            "text/plain": [
              "tensor(12)"
            ]
          },
          "metadata": {},
          "execution_count": 55
        }
      ]
    },
    {
      "cell_type": "code",
      "source": [
        "y_tf"
      ],
      "metadata": {
        "id": "C-vjEtUfGbwW",
        "outputId": "c5d1a48c-982b-47cb-e125-0abc551374f9",
        "colab": {
          "base_uri": "https://localhost:8080/"
        }
      },
      "execution_count": 56,
      "outputs": [
        {
          "output_type": "execute_result",
          "data": {
            "text/plain": [
              "<tf.Variable 'Variable:0' shape=(3,) dtype=int32, numpy=array([25,  2,  5], dtype=int32)>"
            ]
          },
          "metadata": {},
          "execution_count": 56
        }
      ]
    },
    {
      "cell_type": "code",
      "source": [
        "x_tf = tf.Variable([0,1,2])\n",
        "x_tf"
      ],
      "metadata": {
        "id": "0cfiMySbGTU-",
        "outputId": "8526c389-46dc-485c-ddce-dda93de467f2",
        "colab": {
          "base_uri": "https://localhost:8080/"
        }
      },
      "execution_count": 57,
      "outputs": [
        {
          "output_type": "execute_result",
          "data": {
            "text/plain": [
              "<tf.Variable 'Variable:0' shape=(3,) dtype=int32, numpy=array([0, 1, 2], dtype=int32)>"
            ]
          },
          "metadata": {},
          "execution_count": 57
        }
      ]
    },
    {
      "cell_type": "code",
      "source": [
        "# # dot product tensorflow (doesn't have dot)\n",
        "res_tf = tf.reduce_sum(tf.multiply(x_tf, y_tf))\n",
        "res_tf"
      ],
      "metadata": {
        "id": "oGdEIrmmGMPL",
        "outputId": "9f33bb53-328e-44d0-aff9-f8cbd31f941f",
        "colab": {
          "base_uri": "https://localhost:8080/"
        }
      },
      "execution_count": 58,
      "outputs": [
        {
          "output_type": "execute_result",
          "data": {
            "text/plain": [
              "<tf.Tensor: shape=(), dtype=int32, numpy=12>"
            ]
          },
          "metadata": {},
          "execution_count": 58
        }
      ]
    },
    {
      "cell_type": "markdown",
      "source": [
        "# Matrix Multiplication\n",
        "\n",
        "second matrix has to have same number of rows as first matrix has to have columns.\n",
        "\n",
        "Resulting matrix will have as many rows as first matrix has rows, and as many columns as second matrix.\n",
        "\n",
        "It is first element wise multiplication and after that sumation.\n",
        "\n",
        "It's like dot product but with matrices."
      ],
      "metadata": {
        "id": "531uiq3MsrpJ"
      }
    },
    {
      "cell_type": "markdown",
      "source": [
        "## Matrix with Vector"
      ],
      "metadata": {
        "id": "1GOiDiqT0ROA"
      }
    },
    {
      "cell_type": "code",
      "source": [
        "M"
      ],
      "metadata": {
        "id": "dwugZ947swC4",
        "outputId": "65dc0c7f-09d0-4a2b-b13f-05a606087269",
        "colab": {
          "base_uri": "https://localhost:8080/"
        }
      },
      "execution_count": 59,
      "outputs": [
        {
          "output_type": "execute_result",
          "data": {
            "text/plain": [
              "array([[25,  2],\n",
              "       [ 5, 26],\n",
              "       [ 3,  7]])"
            ]
          },
          "metadata": {},
          "execution_count": 59
        }
      ]
    },
    {
      "cell_type": "code",
      "source": [
        "b = np.array([1,2])\n",
        "b"
      ],
      "metadata": {
        "id": "Rydfc4vXywgC",
        "outputId": "89ff3918-0b67-4683-f38c-7d5839937c71",
        "colab": {
          "base_uri": "https://localhost:8080/"
        }
      },
      "execution_count": 68,
      "outputs": [
        {
          "output_type": "execute_result",
          "data": {
            "text/plain": [
              "array([1, 2])"
            ]
          },
          "metadata": {},
          "execution_count": 68
        }
      ]
    },
    {
      "cell_type": "code",
      "source": [
        "np.dot(M,b)"
      ],
      "metadata": {
        "id": "n38SJ1bZy1SB",
        "outputId": "e8b29d23-f4bd-4ddc-facb-1aeaa8490768",
        "colab": {
          "base_uri": "https://localhost:8080/"
        }
      },
      "execution_count": 69,
      "outputs": [
        {
          "output_type": "execute_result",
          "data": {
            "text/plain": [
              "array([29, 57, 17])"
            ]
          },
          "metadata": {},
          "execution_count": 69
        }
      ]
    },
    {
      "cell_type": "code",
      "source": [
        "M_pt"
      ],
      "metadata": {
        "id": "0Kvdwug0zahw",
        "outputId": "46f1f20c-991b-463a-99fb-b588685ff673",
        "colab": {
          "base_uri": "https://localhost:8080/"
        }
      },
      "execution_count": 70,
      "outputs": [
        {
          "output_type": "execute_result",
          "data": {
            "text/plain": [
              "tensor([[25,  2],\n",
              "        [ 5, 26],\n",
              "        [ 3,  7]])"
            ]
          },
          "metadata": {},
          "execution_count": 70
        }
      ]
    },
    {
      "cell_type": "code",
      "source": [
        "b_pt = torch.tensor([1,2])\n",
        "b_pt"
      ],
      "metadata": {
        "id": "pgq3dVs3zkL3",
        "outputId": "1d223ce5-d905-4ff5-a8e9-ee4e819d906b",
        "colab": {
          "base_uri": "https://localhost:8080/"
        }
      },
      "execution_count": 71,
      "outputs": [
        {
          "output_type": "execute_result",
          "data": {
            "text/plain": [
              "tensor([1, 2])"
            ]
          },
          "metadata": {},
          "execution_count": 71
        }
      ]
    },
    {
      "cell_type": "code",
      "source": [
        "torch.matmul(M_pt, b_pt)"
      ],
      "metadata": {
        "id": "ZZVPcX86zS2e",
        "outputId": "a746962a-4187-4466-d6c5-b1e32e6b28f7",
        "colab": {
          "base_uri": "https://localhost:8080/"
        }
      },
      "execution_count": 72,
      "outputs": [
        {
          "output_type": "execute_result",
          "data": {
            "text/plain": [
              "tensor([29, 57, 17])"
            ]
          },
          "metadata": {},
          "execution_count": 72
        }
      ]
    },
    {
      "cell_type": "code",
      "source": [
        "M_tf"
      ],
      "metadata": {
        "id": "8HzH91_rzzGv",
        "outputId": "63bd84c4-2076-4371-ea87-ccab8eec56c3",
        "colab": {
          "base_uri": "https://localhost:8080/"
        }
      },
      "execution_count": 73,
      "outputs": [
        {
          "output_type": "execute_result",
          "data": {
            "text/plain": [
              "<tf.Variable 'Variable:0' shape=(3, 2) dtype=int32, numpy=\n",
              "array([[25,  2],\n",
              "       [ 5, 26],\n",
              "       [ 3,  7]], dtype=int32)>"
            ]
          },
          "metadata": {},
          "execution_count": 73
        }
      ]
    },
    {
      "cell_type": "code",
      "source": [
        "b_tf = tf.Variable([1,2])\n",
        "b_tf"
      ],
      "metadata": {
        "id": "wTRBaZCbz2Z_",
        "outputId": "27dc5d72-a303-4477-bf8b-d11a7eb722f2",
        "colab": {
          "base_uri": "https://localhost:8080/"
        }
      },
      "execution_count": 74,
      "outputs": [
        {
          "output_type": "execute_result",
          "data": {
            "text/plain": [
              "<tf.Variable 'Variable:0' shape=(2,) dtype=int32, numpy=array([1, 2], dtype=int32)>"
            ]
          },
          "metadata": {},
          "execution_count": 74
        }
      ]
    },
    {
      "cell_type": "code",
      "source": [
        "tf.linalg.matvec(M_tf, b_tf)"
      ],
      "metadata": {
        "id": "WpcyGNGGz9Co",
        "outputId": "1cee6e48-c10f-42a6-fd57-9e5139bf507d",
        "colab": {
          "base_uri": "https://localhost:8080/"
        }
      },
      "execution_count": 75,
      "outputs": [
        {
          "output_type": "execute_result",
          "data": {
            "text/plain": [
              "<tf.Tensor: shape=(3,), dtype=int32, numpy=array([29, 57, 17], dtype=int32)>"
            ]
          },
          "metadata": {},
          "execution_count": 75
        }
      ]
    },
    {
      "cell_type": "markdown",
      "source": [
        "## Matrix with Matrix"
      ],
      "metadata": {
        "id": "5yna238C0UGZ"
      }
    },
    {
      "cell_type": "code",
      "source": [
        "B = np.array([[1,2,-1],[3,4,-2],[5,6,-1]])\n",
        "B"
      ],
      "metadata": {
        "id": "AaaUyLpC0r3T",
        "outputId": "ed1befdc-6f1b-4d1c-8f5c-b6c4e5f44c1b",
        "colab": {
          "base_uri": "https://localhost:8080/"
        }
      },
      "execution_count": 78,
      "outputs": [
        {
          "output_type": "execute_result",
          "data": {
            "text/plain": [
              "array([[ 1,  2, -1],\n",
              "       [ 3,  4, -2],\n",
              "       [ 5,  6, -1]])"
            ]
          },
          "metadata": {},
          "execution_count": 78
        }
      ]
    },
    {
      "cell_type": "code",
      "source": [
        "M"
      ],
      "metadata": {
        "id": "w-EGBpRv0YZr",
        "outputId": "6f24611b-9621-4c2c-a286-16e9888aae6c",
        "colab": {
          "base_uri": "https://localhost:8080/"
        }
      },
      "execution_count": 76,
      "outputs": [
        {
          "output_type": "execute_result",
          "data": {
            "text/plain": [
              "array([[25,  2],\n",
              "       [ 5, 26],\n",
              "       [ 3,  7]])"
            ]
          },
          "metadata": {},
          "execution_count": 76
        }
      ]
    },
    {
      "cell_type": "code",
      "source": [
        "np.dot(B,M)"
      ],
      "metadata": {
        "id": "R_8fjl7X01Pr",
        "outputId": "f7ba61cd-ebdd-4a46-99d1-c3a57a2c9c5d",
        "colab": {
          "base_uri": "https://localhost:8080/"
        }
      },
      "execution_count": 80,
      "outputs": [
        {
          "output_type": "execute_result",
          "data": {
            "text/plain": [
              "array([[ 32,  47],\n",
              "       [ 89,  96],\n",
              "       [152, 159]])"
            ]
          },
          "metadata": {},
          "execution_count": 80
        }
      ]
    },
    {
      "cell_type": "code",
      "source": [
        "B_pt = torch.tensor([[1,2,-1],[3,4,-2],[5,6,-1]])\n",
        "B_pt"
      ],
      "metadata": {
        "id": "VA5wumX21OXH",
        "outputId": "2cdd611a-ac75-4bd5-c281-018b71bc64e5",
        "colab": {
          "base_uri": "https://localhost:8080/"
        }
      },
      "execution_count": 82,
      "outputs": [
        {
          "output_type": "execute_result",
          "data": {
            "text/plain": [
              "tensor([[ 1,  2, -1],\n",
              "        [ 3,  4, -2],\n",
              "        [ 5,  6, -1]])"
            ]
          },
          "metadata": {},
          "execution_count": 82
        }
      ]
    },
    {
      "cell_type": "code",
      "source": [
        "torch.matmul(B_pt, M_pt)"
      ],
      "metadata": {
        "id": "eUp7wToC1W3G",
        "outputId": "7387ac5e-79fc-40c6-a449-b36994c1b9cd",
        "colab": {
          "base_uri": "https://localhost:8080/"
        }
      },
      "execution_count": 83,
      "outputs": [
        {
          "output_type": "execute_result",
          "data": {
            "text/plain": [
              "tensor([[ 32,  47],\n",
              "        [ 89,  96],\n",
              "        [152, 159]])"
            ]
          },
          "metadata": {},
          "execution_count": 83
        }
      ]
    },
    {
      "cell_type": "code",
      "source": [
        "B_tf = tf.Variable([[1,2,-1],[3,4,-2],[5,6,-1]])\n",
        "B_tf"
      ],
      "metadata": {
        "id": "14hWEHyK1s_B",
        "outputId": "577532a2-72ba-41a6-c078-6a2a8e976d51",
        "colab": {
          "base_uri": "https://localhost:8080/"
        }
      },
      "execution_count": 84,
      "outputs": [
        {
          "output_type": "execute_result",
          "data": {
            "text/plain": [
              "<tf.Variable 'Variable:0' shape=(3, 3) dtype=int32, numpy=\n",
              "array([[ 1,  2, -1],\n",
              "       [ 3,  4, -2],\n",
              "       [ 5,  6, -1]], dtype=int32)>"
            ]
          },
          "metadata": {},
          "execution_count": 84
        }
      ]
    },
    {
      "cell_type": "code",
      "source": [
        "tf.matmul(B_tf, M_tf)"
      ],
      "metadata": {
        "id": "4R0Y3Yj82A3g",
        "outputId": "b0c8f7f4-ebb4-4507-fa33-1325b4050553",
        "colab": {
          "base_uri": "https://localhost:8080/"
        }
      },
      "execution_count": 85,
      "outputs": [
        {
          "output_type": "execute_result",
          "data": {
            "text/plain": [
              "<tf.Tensor: shape=(3, 2), dtype=int32, numpy=\n",
              "array([[ 32,  47],\n",
              "       [ 89,  96],\n",
              "       [152, 159]], dtype=int32)>"
            ]
          },
          "metadata": {},
          "execution_count": 85
        }
      ]
    }
  ]
}