{
  "nbformat": 4,
  "nbformat_minor": 0,
  "metadata": {
    "colab": {
      "provenance": [],
      "authorship_tag": "ABX9TyMR6KmxGHQo3yqZ10yEZgHX",
      "include_colab_link": true
    },
    "kernelspec": {
      "name": "python3",
      "display_name": "Python 3"
    },
    "language_info": {
      "name": "python"
    }
  },
  "cells": [
    {
      "cell_type": "markdown",
      "metadata": {
        "id": "view-in-github",
        "colab_type": "text"
      },
      "source": [
        "<a href=\"https://colab.research.google.com/github/milica-golocorbin/math_for_dl/blob/main/Linear%20Algebra.ipynb\" target=\"_parent\"><img src=\"https://colab.research.google.com/assets/colab-badge.svg\" alt=\"Open In Colab\"/></a>"
      ]
    },
    {
      "cell_type": "code",
      "execution_count": 2,
      "metadata": {
        "id": "KrP8wZojXGh9"
      },
      "outputs": [],
      "source": [
        "import numpy as np\n",
        "import torch\n",
        "import tensorflow as tf"
      ]
    },
    {
      "cell_type": "markdown",
      "source": [
        "# Data Structures for Linear Algebra\n",
        "\n",
        "## Tensors - Fundamental data structure\n",
        "\n",
        "Tensors are array of numbers. Tensors are machine learning generalization of vectors and matrices to any number of dimensions.\n",
        "\n",
        "- zero dimensional SCALAR tensor\n",
        "- one dimensional VECTOR tensor\n",
        "- two dimensional MATRIX tensor\n",
        "- higher dimensional n TENSOR"
      ],
      "metadata": {
        "id": "hYEzevo6G0TF"
      }
    },
    {
      "cell_type": "code",
      "source": [
        "# SCALAR TENSORS\n",
        "# single number, no dimensions\n",
        "\n",
        "# base python\n",
        "num = 25\n",
        "type(num)\n",
        "\n",
        "# pytorch\n",
        "num_pt = torch.tensor(25)\n",
        "num_pt\n",
        "\n",
        "# tensorflow\n",
        "num_tf = tf.Variable(25)\n",
        "num_tf"
      ],
      "metadata": {
        "colab": {
          "base_uri": "https://localhost:8080/"
        },
        "id": "3O2T9WDuXQuW",
        "outputId": "f23db8b9-77e6-4690-a418-cf2aaca3fca1"
      },
      "execution_count": 64,
      "outputs": [
        {
          "output_type": "execute_result",
          "data": {
            "text/plain": [
              "<tf.Variable 'Variable:0' shape=() dtype=int32, numpy=25>"
            ]
          },
          "metadata": {},
          "execution_count": 64
        }
      ]
    },
    {
      "cell_type": "code",
      "source": [
        "# number of dimensions - pytorch\n",
        "num_pt.shape"
      ],
      "metadata": {
        "colab": {
          "base_uri": "https://localhost:8080/"
        },
        "id": "nrbMaM3jYnkK",
        "outputId": "0292f337-bbdd-4734-9b9c-c1b9b496aacf"
      },
      "execution_count": 65,
      "outputs": [
        {
          "output_type": "execute_result",
          "data": {
            "text/plain": [
              "torch.Size([])"
            ]
          },
          "metadata": {},
          "execution_count": 65
        }
      ]
    },
    {
      "cell_type": "code",
      "source": [
        "# number of dimensions - tensorflow\n",
        "num_tf.shape"
      ],
      "metadata": {
        "colab": {
          "base_uri": "https://localhost:8080/"
        },
        "id": "ABvIcx5CZMG_",
        "outputId": "139ce7d4-a536-4b5d-817a-41cdbf1af5c9"
      },
      "execution_count": 66,
      "outputs": [
        {
          "output_type": "execute_result",
          "data": {
            "text/plain": [
              "TensorShape([])"
            ]
          },
          "metadata": {},
          "execution_count": 66
        }
      ]
    },
    {
      "cell_type": "code",
      "source": [
        "result = num_pt + num_tf\n",
        "# result\n",
        "result.numpy()"
      ],
      "metadata": {
        "colab": {
          "base_uri": "https://localhost:8080/"
        },
        "id": "8kWhANQyZ7jW",
        "outputId": "4c8e01b5-8edd-4d97-effe-6ffbbdbf8852"
      },
      "execution_count": 67,
      "outputs": [
        {
          "output_type": "execute_result",
          "data": {
            "text/plain": [
              "50"
            ]
          },
          "metadata": {},
          "execution_count": 67
        }
      ]
    },
    {
      "cell_type": "code",
      "source": [
        "# VECTOR TENSORS\n",
        "# one dimensional array of numbers(scalars)\n",
        "\n",
        "# numpy\n",
        "y = np.array([25, 2, 5])\n",
        "y\n",
        "\n",
        "# pytorch\n",
        "y_pt = torch.tensor([25, 2, 5])\n",
        "y_pt\n",
        "\n",
        "# tensorflow\n",
        "y_tf = tf.Variable([25, 2, 5])\n",
        "y_tf"
      ],
      "metadata": {
        "colab": {
          "base_uri": "https://localhost:8080/"
        },
        "id": "TU4EPkgDb8jk",
        "outputId": "6a1bd708-691a-4fa5-d252-19790b72f925"
      },
      "execution_count": 7,
      "outputs": [
        {
          "output_type": "execute_result",
          "data": {
            "text/plain": [
              "<tf.Variable 'Variable:0' shape=(3,) dtype=int32, numpy=array([25,  2,  5], dtype=int32)>"
            ]
          },
          "metadata": {},
          "execution_count": 7
        }
      ]
    },
    {
      "cell_type": "code",
      "source": [
        "y.shape"
      ],
      "metadata": {
        "colab": {
          "base_uri": "https://localhost:8080/"
        },
        "id": "339EnNkncpge",
        "outputId": "932f93fb-0b2f-426a-b3d6-e21c8a1c66f6"
      },
      "execution_count": 8,
      "outputs": [
        {
          "output_type": "execute_result",
          "data": {
            "text/plain": [
              "(3,)"
            ]
          },
          "metadata": {},
          "execution_count": 8
        }
      ]
    },
    {
      "cell_type": "code",
      "source": [
        "y[0]"
      ],
      "metadata": {
        "colab": {
          "base_uri": "https://localhost:8080/"
        },
        "id": "ZrRlAOvNWwCT",
        "outputId": "a6425f78-6a8e-46d7-f6c4-75b84a0dade6"
      },
      "execution_count": 9,
      "outputs": [
        {
          "output_type": "execute_result",
          "data": {
            "text/plain": [
              "25"
            ]
          },
          "metadata": {},
          "execution_count": 9
        }
      ]
    },
    {
      "cell_type": "markdown",
      "source": [
        "## Tensor Transposition\n",
        "\n",
        "Transpose converts column to row and vice versa.\n",
        "\n",
        "**$(X^T)_i,_j = X_j,_i$**"
      ],
      "metadata": {
        "id": "8dUtZ3gOXRhS"
      }
    },
    {
      "cell_type": "code",
      "source": [
        "# vector transposition\n",
        "# row vector (1,3) -> column vector (3,1)\n",
        "\n",
        "y_t = y.T\n",
        "y_t\n",
        "\n",
        "z = np.array([[25, 2, 3]])\n",
        "z_t = z.T\n",
        "z_t"
      ],
      "metadata": {
        "colab": {
          "base_uri": "https://localhost:8080/"
        },
        "id": "xx-92gEcn5se",
        "outputId": "4eeaaae9-7894-42f2-854d-7fc2682b01da"
      },
      "execution_count": 10,
      "outputs": [
        {
          "output_type": "execute_result",
          "data": {
            "text/plain": [
              "array([[25],\n",
              "       [ 2],\n",
              "       [ 3]])"
            ]
          },
          "metadata": {},
          "execution_count": 10
        }
      ]
    },
    {
      "cell_type": "code",
      "source": [
        "z_t.shape"
      ],
      "metadata": {
        "colab": {
          "base_uri": "https://localhost:8080/"
        },
        "id": "KrEHLOo0qbkP",
        "outputId": "69e17c04-5db4-4d80-d725-353d74aff43d"
      },
      "execution_count": 11,
      "outputs": [
        {
          "output_type": "execute_result",
          "data": {
            "text/plain": [
              "(3, 1)"
            ]
          },
          "metadata": {},
          "execution_count": 11
        }
      ]
    },
    {
      "cell_type": "code",
      "source": [
        "# MATRIX TENSORS\n",
        "# two dimensional array of numbers(scalars)\n",
        "\n",
        "# numpy\n",
        "M = np.array([[25, 2], [5, 26], [3, 7]])\n",
        "M\n",
        "\n",
        "# pytorch\n",
        "M_pt = torch.tensor([[25, 2], [5, 26], [3, 7]])\n",
        "M_pt\n",
        "\n",
        "# tensorflow\n",
        "M_tf = tf.Variable([[25, 2], [5, 26], [3, 7]])\n",
        "M_tf"
      ],
      "metadata": {
        "colab": {
          "base_uri": "https://localhost:8080/"
        },
        "id": "Ax4egEwlWzc-",
        "outputId": "47536c7e-ccbe-43b9-a1e4-c2f3d0a95857"
      },
      "execution_count": 12,
      "outputs": [
        {
          "output_type": "execute_result",
          "data": {
            "text/plain": [
              "<tf.Variable 'Variable:0' shape=(3, 2) dtype=int32, numpy=\n",
              "array([[25,  2],\n",
              "       [ 5, 26],\n",
              "       [ 3,  7]], dtype=int32)>"
            ]
          },
          "metadata": {},
          "execution_count": 12
        }
      ]
    },
    {
      "cell_type": "code",
      "source": [
        "M.shape\n",
        "# (row, column)"
      ],
      "metadata": {
        "colab": {
          "base_uri": "https://localhost:8080/"
        },
        "id": "wbrnOYiEeS_8",
        "outputId": "f58a3d35-e53c-4591-c41a-b9e6ad7ffc8e"
      },
      "execution_count": 13,
      "outputs": [
        {
          "output_type": "execute_result",
          "data": {
            "text/plain": [
              "(3, 2)"
            ]
          },
          "metadata": {},
          "execution_count": 13
        }
      ]
    },
    {
      "cell_type": "code",
      "source": [
        "M.size"
      ],
      "metadata": {
        "colab": {
          "base_uri": "https://localhost:8080/"
        },
        "id": "9B3gwE4eeXZ-",
        "outputId": "4deccdf0-ec1e-4626-a760-7c470dab52e3"
      },
      "execution_count": 14,
      "outputs": [
        {
          "output_type": "execute_result",
          "data": {
            "text/plain": [
              "6"
            ]
          },
          "metadata": {},
          "execution_count": 14
        }
      ]
    },
    {
      "cell_type": "code",
      "source": [
        "M[:,0]\n",
        "# first column"
      ],
      "metadata": {
        "colab": {
          "base_uri": "https://localhost:8080/"
        },
        "id": "80u3urlYegTy",
        "outputId": "69676719-563f-43ee-b836-28ec3db14ba1"
      },
      "execution_count": 15,
      "outputs": [
        {
          "output_type": "execute_result",
          "data": {
            "text/plain": [
              "array([25,  5,  3])"
            ]
          },
          "metadata": {},
          "execution_count": 15
        }
      ]
    },
    {
      "cell_type": "code",
      "source": [
        "M[1,:]\n",
        "# second row"
      ],
      "metadata": {
        "colab": {
          "base_uri": "https://localhost:8080/"
        },
        "id": "aehJMJlLetAG",
        "outputId": "615940fd-92d9-4cd0-e46f-740facfa1da8"
      },
      "execution_count": 16,
      "outputs": [
        {
          "output_type": "execute_result",
          "data": {
            "text/plain": [
              "array([ 5, 26])"
            ]
          },
          "metadata": {},
          "execution_count": 16
        }
      ]
    },
    {
      "cell_type": "code",
      "source": [
        "tf.rank(M_tf)"
      ],
      "metadata": {
        "colab": {
          "base_uri": "https://localhost:8080/"
        },
        "id": "2PLbHPh3f-c0",
        "outputId": "efec173e-13f6-4d11-ae30-be9234aedcfb"
      },
      "execution_count": 17,
      "outputs": [
        {
          "output_type": "execute_result",
          "data": {
            "text/plain": [
              "<tf.Tensor: shape=(), dtype=int32, numpy=2>"
            ]
          },
          "metadata": {},
          "execution_count": 17
        }
      ]
    },
    {
      "cell_type": "code",
      "source": [
        "# matrix transposition\n",
        "\n",
        "M.T"
      ],
      "metadata": {
        "colab": {
          "base_uri": "https://localhost:8080/"
        },
        "id": "Bbd2jQmEUJ9P",
        "outputId": "760ae683-ff60-43a2-86fd-5da45378ff74"
      },
      "execution_count": 18,
      "outputs": [
        {
          "output_type": "execute_result",
          "data": {
            "text/plain": [
              "array([[25,  5,  3],\n",
              "       [ 2, 26,  7]])"
            ]
          },
          "metadata": {},
          "execution_count": 18
        }
      ]
    },
    {
      "cell_type": "code",
      "source": [
        "# matrix transposition pytorch\n",
        "\n",
        "M_pt.T"
      ],
      "metadata": {
        "colab": {
          "base_uri": "https://localhost:8080/"
        },
        "id": "X1XDPoagYRIZ",
        "outputId": "bd8db9e2-fcc4-4380-8a39-ea20f745f8c5"
      },
      "execution_count": 19,
      "outputs": [
        {
          "output_type": "execute_result",
          "data": {
            "text/plain": [
              "tensor([[25,  5,  3],\n",
              "        [ 2, 26,  7]])"
            ]
          },
          "metadata": {},
          "execution_count": 19
        }
      ]
    },
    {
      "cell_type": "code",
      "source": [
        "# matrix transposition tensorflow\n",
        "\n",
        "tf.transpose(M_tf)"
      ],
      "metadata": {
        "colab": {
          "base_uri": "https://localhost:8080/"
        },
        "id": "WxD6rPFaYaSb",
        "outputId": "9e0108a7-ceb4-4a1e-e447-8fa29e0b80bd"
      },
      "execution_count": 20,
      "outputs": [
        {
          "output_type": "execute_result",
          "data": {
            "text/plain": [
              "<tf.Tensor: shape=(2, 3), dtype=int32, numpy=\n",
              "array([[25,  5,  3],\n",
              "       [ 2, 26,  7]], dtype=int32)>"
            ]
          },
          "metadata": {},
          "execution_count": 20
        }
      ]
    },
    {
      "cell_type": "code",
      "source": [
        "y"
      ],
      "metadata": {
        "colab": {
          "base_uri": "https://localhost:8080/"
        },
        "id": "wSLpO9FTZ2dp",
        "outputId": "71725c87-c567-4802-b841-e1cd4e79abdf"
      },
      "execution_count": 28,
      "outputs": [
        {
          "output_type": "execute_result",
          "data": {
            "text/plain": [
              "array([25,  2,  5])"
            ]
          },
          "metadata": {},
          "execution_count": 28
        }
      ]
    },
    {
      "cell_type": "code",
      "source": [
        "# arithmetic operations\n",
        "#vectors\n",
        "y * 2"
      ],
      "metadata": {
        "colab": {
          "base_uri": "https://localhost:8080/"
        },
        "id": "KhJrXwFTZZr8",
        "outputId": "b91c259e-b0d7-4956-9d84-f453c8e38b0f"
      },
      "execution_count": 26,
      "outputs": [
        {
          "output_type": "execute_result",
          "data": {
            "text/plain": [
              "array([50,  4, 10])"
            ]
          },
          "metadata": {},
          "execution_count": 26
        }
      ]
    },
    {
      "cell_type": "code",
      "source": [
        "y + 2"
      ],
      "metadata": {
        "colab": {
          "base_uri": "https://localhost:8080/"
        },
        "id": "JYfUdyp_aIEL",
        "outputId": "eb0a2f18-1452-4250-99f4-2a7a719d25da"
      },
      "execution_count": 30,
      "outputs": [
        {
          "output_type": "execute_result",
          "data": {
            "text/plain": [
              "array([27,  4,  7])"
            ]
          },
          "metadata": {},
          "execution_count": 30
        }
      ]
    },
    {
      "cell_type": "code",
      "source": [
        "M"
      ],
      "metadata": {
        "colab": {
          "base_uri": "https://localhost:8080/"
        },
        "id": "XLutb1qWZ4Ka",
        "outputId": "ff8ed6ef-d456-4fc5-d400-2b9fc7e0d6bf"
      },
      "execution_count": 29,
      "outputs": [
        {
          "output_type": "execute_result",
          "data": {
            "text/plain": [
              "array([[25,  2],\n",
              "       [ 5, 26],\n",
              "       [ 3,  7]])"
            ]
          },
          "metadata": {},
          "execution_count": 29
        }
      ]
    },
    {
      "cell_type": "code",
      "source": [
        "# arithmetic operations\n",
        "#matrix\n",
        "M * 2"
      ],
      "metadata": {
        "colab": {
          "base_uri": "https://localhost:8080/"
        },
        "id": "Y-ssgm57Zwa0",
        "outputId": "0a049695-87c8-47e2-8cb7-e2cb17f9a059"
      },
      "execution_count": 27,
      "outputs": [
        {
          "output_type": "execute_result",
          "data": {
            "text/plain": [
              "array([[50,  4],\n",
              "       [10, 52],\n",
              "       [ 6, 14]])"
            ]
          },
          "metadata": {},
          "execution_count": 27
        }
      ]
    },
    {
      "cell_type": "code",
      "source": [
        "M + 2"
      ],
      "metadata": {
        "colab": {
          "base_uri": "https://localhost:8080/"
        },
        "id": "19cBvOyaaMi_",
        "outputId": "e20801ac-25dc-48d3-d262-78e03679511a"
      },
      "execution_count": 31,
      "outputs": [
        {
          "output_type": "execute_result",
          "data": {
            "text/plain": [
              "array([[27,  4],\n",
              "       [ 7, 28],\n",
              "       [ 5,  9]])"
            ]
          },
          "metadata": {},
          "execution_count": 31
        }
      ]
    },
    {
      "cell_type": "code",
      "source": [
        "# with pytorch\n",
        "\n",
        "M_pt * 2"
      ],
      "metadata": {
        "colab": {
          "base_uri": "https://localhost:8080/"
        },
        "id": "vYJnxZSraRd9",
        "outputId": "2e42f7be-649f-4e56-abc8-4acbc4675808"
      },
      "execution_count": 32,
      "outputs": [
        {
          "output_type": "execute_result",
          "data": {
            "text/plain": [
              "tensor([[50,  4],\n",
              "        [10, 52],\n",
              "        [ 6, 14]])"
            ]
          },
          "metadata": {},
          "execution_count": 32
        }
      ]
    },
    {
      "cell_type": "code",
      "source": [
        "torch.add(M_pt, 2)"
      ],
      "metadata": {
        "colab": {
          "base_uri": "https://localhost:8080/"
        },
        "id": "UtH1DCXpah5M",
        "outputId": "d7ad1d99-07c0-465c-b610-0951c0ff7b49"
      },
      "execution_count": 33,
      "outputs": [
        {
          "output_type": "execute_result",
          "data": {
            "text/plain": [
              "tensor([[27,  4],\n",
              "        [ 7, 28],\n",
              "        [ 5,  9]])"
            ]
          },
          "metadata": {},
          "execution_count": 33
        }
      ]
    },
    {
      "cell_type": "code",
      "source": [
        "torch.mul(M_pt, 2)"
      ],
      "metadata": {
        "colab": {
          "base_uri": "https://localhost:8080/"
        },
        "id": "Nl_31bB2anQW",
        "outputId": "ca0ff809-5b80-4468-e9af-0b9e64b115db"
      },
      "execution_count": 34,
      "outputs": [
        {
          "output_type": "execute_result",
          "data": {
            "text/plain": [
              "tensor([[50,  4],\n",
              "        [10, 52],\n",
              "        [ 6, 14]])"
            ]
          },
          "metadata": {},
          "execution_count": 34
        }
      ]
    },
    {
      "cell_type": "code",
      "source": [
        "# with tensorflow\n",
        "\n",
        "M_tf * 2"
      ],
      "metadata": {
        "colab": {
          "base_uri": "https://localhost:8080/"
        },
        "id": "TQ4lKzydat7a",
        "outputId": "8464dfc7-3504-436d-c940-adb51391e20f"
      },
      "execution_count": 35,
      "outputs": [
        {
          "output_type": "execute_result",
          "data": {
            "text/plain": [
              "<tf.Tensor: shape=(3, 2), dtype=int32, numpy=\n",
              "array([[50,  4],\n",
              "       [10, 52],\n",
              "       [ 6, 14]], dtype=int32)>"
            ]
          },
          "metadata": {},
          "execution_count": 35
        }
      ]
    },
    {
      "cell_type": "code",
      "source": [
        "tf.add(M_tf, 2)"
      ],
      "metadata": {
        "colab": {
          "base_uri": "https://localhost:8080/"
        },
        "id": "Xd6miBsFa2Fa",
        "outputId": "f212c91f-3463-40ec-89c7-bd43f41ca6ae"
      },
      "execution_count": 36,
      "outputs": [
        {
          "output_type": "execute_result",
          "data": {
            "text/plain": [
              "<tf.Tensor: shape=(3, 2), dtype=int32, numpy=\n",
              "array([[27,  4],\n",
              "       [ 7, 28],\n",
              "       [ 5,  9]], dtype=int32)>"
            ]
          },
          "metadata": {},
          "execution_count": 36
        }
      ]
    },
    {
      "cell_type": "code",
      "source": [
        "tf.multiply(M_tf, 2)"
      ],
      "metadata": {
        "colab": {
          "base_uri": "https://localhost:8080/"
        },
        "id": "PntJ72iMa6GB",
        "outputId": "9dcd912f-19b1-4d11-8f0c-f6814adea358"
      },
      "execution_count": 38,
      "outputs": [
        {
          "output_type": "execute_result",
          "data": {
            "text/plain": [
              "<tf.Tensor: shape=(3, 2), dtype=int32, numpy=\n",
              "array([[50,  4],\n",
              "       [10, 52],\n",
              "       [ 6, 14]], dtype=int32)>"
            ]
          },
          "metadata": {},
          "execution_count": 38
        }
      ]
    },
    {
      "cell_type": "markdown",
      "source": [
        "## HADAMARD PRODUCT\n",
        "\n",
        "If two tensors have same size, we multiply element by element. It is element wise product.\n",
        "\n",
        "$A \\odot X$"
      ],
      "metadata": {
        "id": "mPfOV2Tcbqoy"
      }
    },
    {
      "cell_type": "code",
      "source": [
        "A = M + 2\n",
        "\n",
        "A"
      ],
      "metadata": {
        "colab": {
          "base_uri": "https://localhost:8080/"
        },
        "id": "4iXtskZ_blIF",
        "outputId": "e10352df-84c1-40fb-8608-a6808c458cdc"
      },
      "execution_count": 41,
      "outputs": [
        {
          "output_type": "execute_result",
          "data": {
            "text/plain": [
              "array([[27,  4],\n",
              "       [ 7, 28],\n",
              "       [ 5,  9]])"
            ]
          },
          "metadata": {},
          "execution_count": 41
        }
      ]
    },
    {
      "cell_type": "code",
      "source": [
        "M"
      ],
      "metadata": {
        "colab": {
          "base_uri": "https://localhost:8080/"
        },
        "id": "egNahBpwcv1V",
        "outputId": "2ae9ab23-1628-4a4d-ae91-8f4760cf3c1a"
      },
      "execution_count": 42,
      "outputs": [
        {
          "output_type": "execute_result",
          "data": {
            "text/plain": [
              "array([[25,  2],\n",
              "       [ 5, 26],\n",
              "       [ 3,  7]])"
            ]
          },
          "metadata": {},
          "execution_count": 42
        }
      ]
    },
    {
      "cell_type": "code",
      "source": [
        "A + M"
      ],
      "metadata": {
        "colab": {
          "base_uri": "https://localhost:8080/"
        },
        "id": "hh5n2ViBcyUQ",
        "outputId": "485ed4f4-88c8-47ed-939d-1dbd0d69781b"
      },
      "execution_count": 43,
      "outputs": [
        {
          "output_type": "execute_result",
          "data": {
            "text/plain": [
              "array([[52,  6],\n",
              "       [12, 54],\n",
              "       [ 8, 16]])"
            ]
          },
          "metadata": {},
          "execution_count": 43
        }
      ]
    },
    {
      "cell_type": "code",
      "source": [
        "# HADAMARD PRODUCT\n",
        "A * M"
      ],
      "metadata": {
        "colab": {
          "base_uri": "https://localhost:8080/"
        },
        "id": "9WSPsswnc3re",
        "outputId": "26543540-3ff2-42b9-9043-d6d3aae5b225"
      },
      "execution_count": 44,
      "outputs": [
        {
          "output_type": "execute_result",
          "data": {
            "text/plain": [
              "array([[675,   8],\n",
              "       [ 35, 728],\n",
              "       [ 15,  63]])"
            ]
          },
          "metadata": {},
          "execution_count": 44
        }
      ]
    },
    {
      "cell_type": "code",
      "source": [
        "# Same in PyTorch and TensorFlow."
      ],
      "metadata": {
        "id": "2YjON9g3dCh9"
      },
      "execution_count": null,
      "outputs": []
    },
    {
      "cell_type": "markdown",
      "source": [
        "## REDUCTION\n",
        "\n",
        "Calculating the sum across all elements of a tensor.\n",
        "\n",
        "- For vector **x** of length *n*, we calculate: \n",
        "\n",
        "  $\\sum^n_{i=1} x_i$\n",
        "\n",
        "  $x_i$ refers to all of the elements from the first element(i=1), to the $n^{th}$ one. Sigma($\\sum$) means sum.\n",
        "\n",
        "- For matrix **X** with *m* by *n* dimensions, we calcualte:\n",
        "\n",
        "   $\\sum^m_{i=1} \\sum^n_{j=1} X_{i,j}$\n",
        "\n",
        "Basically with this formula we are saying **sum all elements**. Reduce to total."
      ],
      "metadata": {
        "id": "-psajFg-fdSj"
      }
    },
    {
      "cell_type": "code",
      "source": [
        "y"
      ],
      "metadata": {
        "colab": {
          "base_uri": "https://localhost:8080/"
        },
        "id": "oqirx8okjt7G",
        "outputId": "6586ebed-03c9-4618-fc6f-cd02704cc6b2"
      },
      "execution_count": 45,
      "outputs": [
        {
          "output_type": "execute_result",
          "data": {
            "text/plain": [
              "array([25,  2,  5])"
            ]
          },
          "metadata": {},
          "execution_count": 45
        }
      ]
    },
    {
      "cell_type": "code",
      "source": [
        "y.sum()"
      ],
      "metadata": {
        "colab": {
          "base_uri": "https://localhost:8080/"
        },
        "id": "G2A1J1z0kK9H",
        "outputId": "0af5c824-6b2b-4f8f-ca25-abeb3477c8ab"
      },
      "execution_count": 46,
      "outputs": [
        {
          "output_type": "execute_result",
          "data": {
            "text/plain": [
              "32"
            ]
          },
          "metadata": {},
          "execution_count": 46
        }
      ]
    },
    {
      "cell_type": "code",
      "source": [
        "M"
      ],
      "metadata": {
        "colab": {
          "base_uri": "https://localhost:8080/"
        },
        "id": "Z68HJcxzkOq9",
        "outputId": "67f5389d-832d-4fe7-96d1-4b94819000e5"
      },
      "execution_count": 47,
      "outputs": [
        {
          "output_type": "execute_result",
          "data": {
            "text/plain": [
              "array([[25,  2],\n",
              "       [ 5, 26],\n",
              "       [ 3,  7]])"
            ]
          },
          "metadata": {},
          "execution_count": 47
        }
      ]
    },
    {
      "cell_type": "code",
      "source": [
        "M.sum()"
      ],
      "metadata": {
        "colab": {
          "base_uri": "https://localhost:8080/"
        },
        "id": "P44wB2lhkR6i",
        "outputId": "6a25751d-904b-4dea-de5c-c85b0271c4c3"
      },
      "execution_count": 48,
      "outputs": [
        {
          "output_type": "execute_result",
          "data": {
            "text/plain": [
              "68"
            ]
          },
          "metadata": {},
          "execution_count": 48
        }
      ]
    },
    {
      "cell_type": "code",
      "source": [
        "torch.sum(y_pt)"
      ],
      "metadata": {
        "colab": {
          "base_uri": "https://localhost:8080/"
        },
        "id": "7ySFPJpVkf9B",
        "outputId": "521db37a-7fb2-4b9e-9684-7ae157dc92ba"
      },
      "execution_count": 51,
      "outputs": [
        {
          "output_type": "execute_result",
          "data": {
            "text/plain": [
              "tensor(32)"
            ]
          },
          "metadata": {},
          "execution_count": 51
        }
      ]
    },
    {
      "cell_type": "code",
      "source": [
        "torch.sum(M_pt)"
      ],
      "metadata": {
        "colab": {
          "base_uri": "https://localhost:8080/"
        },
        "id": "P44lmaVJkXMG",
        "outputId": "2bc5249c-8342-4580-aa4a-283e7df97e12"
      },
      "execution_count": 50,
      "outputs": [
        {
          "output_type": "execute_result",
          "data": {
            "text/plain": [
              "tensor(68)"
            ]
          },
          "metadata": {},
          "execution_count": 50
        }
      ]
    },
    {
      "cell_type": "code",
      "source": [
        "tf.reduce_sum(y_tf)"
      ],
      "metadata": {
        "colab": {
          "base_uri": "https://localhost:8080/"
        },
        "id": "rqagA0lzkk3R",
        "outputId": "3881d846-7c16-48b3-ca6d-69ef711a40e8"
      },
      "execution_count": 53,
      "outputs": [
        {
          "output_type": "execute_result",
          "data": {
            "text/plain": [
              "<tf.Tensor: shape=(), dtype=int32, numpy=32>"
            ]
          },
          "metadata": {},
          "execution_count": 53
        }
      ]
    },
    {
      "cell_type": "code",
      "source": [
        "tf.reduce_sum(M_tf)"
      ],
      "metadata": {
        "colab": {
          "base_uri": "https://localhost:8080/"
        },
        "id": "RdBqamz-kspQ",
        "outputId": "343b0459-41f9-4c26-d8f2-ce8560c3b5a8"
      },
      "execution_count": 54,
      "outputs": [
        {
          "output_type": "execute_result",
          "data": {
            "text/plain": [
              "<tf.Tensor: shape=(), dtype=int32, numpy=68>"
            ]
          },
          "metadata": {},
          "execution_count": 54
        }
      ]
    },
    {
      "cell_type": "code",
      "source": [
        "# Sum only axis\n",
        "\n",
        "M.sum(axis=0)\n",
        "# summing columns"
      ],
      "metadata": {
        "colab": {
          "base_uri": "https://localhost:8080/"
        },
        "id": "xpz-aSmglXnd",
        "outputId": "218de11e-d9a2-4d24-e0f6-e2452fd0cba3"
      },
      "execution_count": 57,
      "outputs": [
        {
          "output_type": "execute_result",
          "data": {
            "text/plain": [
              "array([33, 35])"
            ]
          },
          "metadata": {},
          "execution_count": 57
        }
      ]
    },
    {
      "cell_type": "code",
      "source": [
        "# Sum only axis\n",
        "\n",
        "M.sum(axis=1)\n",
        "# summing rows"
      ],
      "metadata": {
        "colab": {
          "base_uri": "https://localhost:8080/"
        },
        "id": "weAQI9alk6pw",
        "outputId": "22a7217e-d1b8-4580-b17f-98e5a51bd40d"
      },
      "execution_count": 58,
      "outputs": [
        {
          "output_type": "execute_result",
          "data": {
            "text/plain": [
              "array([27, 31, 10])"
            ]
          },
          "metadata": {},
          "execution_count": 58
        }
      ]
    },
    {
      "cell_type": "code",
      "source": [
        "torch.sum(M_pt, 0)"
      ],
      "metadata": {
        "colab": {
          "base_uri": "https://localhost:8080/"
        },
        "id": "XmizMn7vl9a1",
        "outputId": "5262a4d6-5496-4946-b5c2-6739c58c4bcf"
      },
      "execution_count": 60,
      "outputs": [
        {
          "output_type": "execute_result",
          "data": {
            "text/plain": [
              "tensor([33, 35])"
            ]
          },
          "metadata": {},
          "execution_count": 60
        }
      ]
    },
    {
      "cell_type": "code",
      "source": [
        "tf.reduce_sum(M_tf, 1)"
      ],
      "metadata": {
        "colab": {
          "base_uri": "https://localhost:8080/"
        },
        "id": "R4tu0MtgmEZD",
        "outputId": "8547469f-fe7a-4c6e-d747-736f60d93600"
      },
      "execution_count": 61,
      "outputs": [
        {
          "output_type": "execute_result",
          "data": {
            "text/plain": [
              "<tf.Tensor: shape=(3,), dtype=int32, numpy=array([27, 31, 10], dtype=int32)>"
            ]
          },
          "metadata": {},
          "execution_count": 61
        }
      ]
    },
    {
      "cell_type": "markdown",
      "source": [
        "## DOT PRODUCT\n",
        "\n",
        "It is like combination of HADAMARD PRODUCT and REDUCTION.\n",
        "\n",
        "If we have two vectors(x,y) with the same length, we can calculate dot product between them. This is annotated by:\n",
        "\n",
        "- $x * y$\n",
        "- $x^T y$\n",
        "- $<x,y>$\n",
        "\n",
        "We calculate products in an element-wise and then sum reductively across the procucts to scalar value.\n",
        "\n",
        "$x * y = \\sum^n_{i=1} x_iy_i$\n",
        "\n",
        "for first element of x and for the first element of y, we calculate the product(we multiply them) and we do that for the second, all the way up to up to $n^{th}$ element of x by $n^{th}$ element of y. Once we have all of the products, we than sum up, $\\sum$.\n",
        "\n",
        "DOT PRODUCT IS PERFORMED AT EVERY ATRIFICIAL NEURON IN A DEEP NEURAL NETWORK."
      ],
      "metadata": {
        "id": "NIp-Ba0mmfqq"
      }
    },
    {
      "cell_type": "code",
      "source": [
        "y"
      ],
      "metadata": {
        "id": "v6i3kLvyAM2Y",
        "outputId": "bb4e4686-ab8d-4d95-ee7b-ce8857404052",
        "colab": {
          "base_uri": "https://localhost:8080/"
        }
      },
      "execution_count": 63,
      "outputs": [
        {
          "output_type": "execute_result",
          "data": {
            "text/plain": [
              "array([25,  2,  5])"
            ]
          },
          "metadata": {},
          "execution_count": 63
        }
      ]
    },
    {
      "cell_type": "code",
      "source": [
        "x = np.array([0,1,2])\n",
        "x"
      ],
      "metadata": {
        "id": "ZRb2y2fQBn4x",
        "outputId": "4c69d74e-b607-4ad1-cf34-b2d808525889",
        "colab": {
          "base_uri": "https://localhost:8080/"
        }
      },
      "execution_count": 68,
      "outputs": [
        {
          "output_type": "execute_result",
          "data": {
            "text/plain": [
              "array([0, 1, 2])"
            ]
          },
          "metadata": {},
          "execution_count": 68
        }
      ]
    },
    {
      "cell_type": "code",
      "source": [
        "# manual dot product\n",
        "res = 25 * 0 + 2 * 1 + 5 * 2\n",
        "res"
      ],
      "metadata": {
        "id": "pXpvx3jLCJxi",
        "outputId": "b3ad010f-09d1-4ee2-fa86-c506baf644cc",
        "colab": {
          "base_uri": "https://localhost:8080/"
        }
      },
      "execution_count": 69,
      "outputs": [
        {
          "output_type": "execute_result",
          "data": {
            "text/plain": [
              "12"
            ]
          },
          "metadata": {},
          "execution_count": 69
        }
      ]
    },
    {
      "cell_type": "code",
      "source": [
        "# dot product numpy\n",
        "np.dot(x,y)"
      ],
      "metadata": {
        "id": "1zymyre1CXrQ",
        "outputId": "9ead0ae4-e2b0-4e9e-ae24-ae8068e21c50",
        "colab": {
          "base_uri": "https://localhost:8080/"
        }
      },
      "execution_count": 70,
      "outputs": [
        {
          "output_type": "execute_result",
          "data": {
            "text/plain": [
              "12"
            ]
          },
          "metadata": {},
          "execution_count": 70
        }
      ]
    },
    {
      "cell_type": "code",
      "source": [
        "y_pt"
      ],
      "metadata": {
        "id": "O8swPI6LEqlW",
        "outputId": "7a7debd4-7376-4b14-f5a2-e3c9a1b9604d",
        "colab": {
          "base_uri": "https://localhost:8080/"
        }
      },
      "execution_count": 71,
      "outputs": [
        {
          "output_type": "execute_result",
          "data": {
            "text/plain": [
              "tensor([25,  2,  5])"
            ]
          },
          "metadata": {},
          "execution_count": 71
        }
      ]
    },
    {
      "cell_type": "code",
      "source": [
        "x_pt = torch.tensor([0,1,2])\n",
        "x_pt"
      ],
      "metadata": {
        "id": "9nMwuSgWE6C-",
        "outputId": "4631c77d-6e32-4e81-da3b-12add4d177aa",
        "colab": {
          "base_uri": "https://localhost:8080/"
        }
      },
      "execution_count": 72,
      "outputs": [
        {
          "output_type": "execute_result",
          "data": {
            "text/plain": [
              "tensor([0, 1, 2])"
            ]
          },
          "metadata": {},
          "execution_count": 72
        }
      ]
    },
    {
      "cell_type": "code",
      "source": [
        "# dot product pytorch\n",
        "\n",
        "res_pt = torch.dot(y_pt, x_pt)\n",
        "res_pt"
      ],
      "metadata": {
        "id": "fXSOZEF4FAbH",
        "outputId": "d95a4cd7-8848-41ca-f776-029ace12f22a",
        "colab": {
          "base_uri": "https://localhost:8080/"
        }
      },
      "execution_count": 73,
      "outputs": [
        {
          "output_type": "execute_result",
          "data": {
            "text/plain": [
              "tensor(12)"
            ]
          },
          "metadata": {},
          "execution_count": 73
        }
      ]
    },
    {
      "cell_type": "code",
      "source": [
        "y_tf"
      ],
      "metadata": {
        "id": "C-vjEtUfGbwW",
        "outputId": "4428be11-0f25-42b9-ca07-a03e6d6f8691",
        "colab": {
          "base_uri": "https://localhost:8080/"
        }
      },
      "execution_count": 76,
      "outputs": [
        {
          "output_type": "execute_result",
          "data": {
            "text/plain": [
              "<tf.Variable 'Variable:0' shape=(3,) dtype=int32, numpy=array([25,  2,  5], dtype=int32)>"
            ]
          },
          "metadata": {},
          "execution_count": 76
        }
      ]
    },
    {
      "cell_type": "code",
      "source": [
        "x_tf = tf.Variable([0,1,2])\n",
        "x_tf"
      ],
      "metadata": {
        "id": "0cfiMySbGTU-",
        "outputId": "95a3bf0d-be60-4e3e-9180-7af2540d4f50",
        "colab": {
          "base_uri": "https://localhost:8080/"
        }
      },
      "execution_count": 74,
      "outputs": [
        {
          "output_type": "execute_result",
          "data": {
            "text/plain": [
              "<tf.Variable 'Variable:0' shape=(3,) dtype=int32, numpy=array([0, 1, 2], dtype=int32)>"
            ]
          },
          "metadata": {},
          "execution_count": 74
        }
      ]
    },
    {
      "cell_type": "code",
      "source": [
        "# # dot product tensorflow (doesn't have dot)\n",
        "res_tf = tf.reduce_sum(tf.multiply(x_tf, y_tf))\n",
        "res_tf"
      ],
      "metadata": {
        "id": "oGdEIrmmGMPL",
        "outputId": "2d7289e7-e01a-4529-fd06-f1b980e1130a",
        "colab": {
          "base_uri": "https://localhost:8080/"
        }
      },
      "execution_count": 79,
      "outputs": [
        {
          "output_type": "execute_result",
          "data": {
            "text/plain": [
              "<tf.Tensor: shape=(), dtype=int32, numpy=12>"
            ]
          },
          "metadata": {},
          "execution_count": 79
        }
      ]
    }
  ]
}